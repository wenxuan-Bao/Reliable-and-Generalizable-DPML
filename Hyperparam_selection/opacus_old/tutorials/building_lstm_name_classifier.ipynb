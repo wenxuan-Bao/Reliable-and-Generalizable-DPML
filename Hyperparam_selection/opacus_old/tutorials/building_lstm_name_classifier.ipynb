{
 "cells": [
  {
   "cell_type": "markdown",
   "metadata": {},
   "source": [
    "## Training a differentially private LSTM model for name classification"
   ]
  },
  {
   "cell_type": "markdown",
   "metadata": {},
   "source": [
    "In this tutorial we will build a differentially-private LSTM model to classify names to their source languages, which is the same task as in the tutorial **NLP From Scratch** (https://pytorch.org/tutorials/intermediate/char_rnn_classification_tutorial.html). Since the objective of this tutorial is to demonstrate the effective use of an LSTM with privacy guarantees, we will be utilizing it in place of the bare-bones RNN model defined in the original tutorial. Specifically, we use the `DPLSTM` module from `opacus.layers.dp_lstm` to facilitate calculation of the per-example gradients, which are utilized in the addition of noise during application of differential privacy. `DPLSTM` has the same API and functionality as the `nn.LSTM`, with some restrictions (ex. we currently support single layers, the full list is given below).  "
   ]
  },
  {
   "cell_type": "markdown",
   "metadata": {},
   "source": [
    "## Dataset"
   ]
  },
  {
   "cell_type": "markdown",
   "metadata": {},
   "source": [
    "First, let us download the dataset of names and their associated language labels as given in https://pytorch.org/tutorials/intermediate/char_rnn_classification_tutorial.html. We train our differentially-private LSTM on the same dataset as in that tutorial."
   ]
  },
  {
   "cell_type": "code",
   "execution_count": 1,
   "metadata": {},
   "outputs": [
    {
     "name": "stdout",
     "output_type": "stream",
     "text": [
      "Downloading and extracting ...\n",
      "Completed!\n"
     ]
    }
   ],
   "source": [
    "import os\n",
    "import requests\n",
    "\n",
    "NAMES_DATASET_URL = \"https://download.pytorch.org/tutorial/data.zip\"\n",
    "DATA_DIR = \"names\"\n",
    "\n",
    "import zipfile\n",
    "import urllib\n",
    "\n",
    "def download_and_extract(dataset_url, data_dir):\n",
    "    print(\"Downloading and extracting ...\")\n",
    "    filename = \"data.zip\"\n",
    "\n",
    "    urllib.request.urlretrieve(dataset_url, filename)\n",
    "    with zipfile.ZipFile(filename) as zip_ref:\n",
    "        zip_ref.extractall(data_dir)\n",
    "    os.remove(filename)\n",
    "    print(\"Completed!\")\n",
    "\n",
    "download_and_extract(NAMES_DATASET_URL, DATA_DIR)"
   ]
  },
  {
   "cell_type": "code",
   "execution_count": 2,
   "metadata": {},
   "outputs": [
    {
     "name": "stdout",
     "output_type": "stream",
     "text": [
      "['Arabic.txt', 'Chinese.txt', 'Czech.txt', 'Dutch.txt', 'English.txt', 'French.txt', 'German.txt', 'Greek.txt', 'Irish.txt', 'Italian.txt', 'Japanese.txt', 'Korean.txt', 'Polish.txt', 'Portuguese.txt', 'Russian.txt', 'Scottish.txt', 'Spanish.txt', 'Vietnamese.txt']\n"
     ]
    }
   ],
   "source": [
    "names_folder = os.path.join(DATA_DIR, 'data', 'names')\n",
    "all_filenames = []\n",
    "\n",
    "for language_file in os.listdir(names_folder):\n",
    "    all_filenames.append(os.path.join(names_folder, language_file))\n",
    "    \n",
    "print(os.listdir(names_folder))"
   ]
  },
  {
   "cell_type": "code",
   "execution_count": 3,
   "metadata": {},
   "outputs": [],
   "source": [
    "import torch\n",
    "import torch.nn as nn\n",
    "\n",
    "class CharByteEncoder(nn.Module):\n",
    "    \"\"\"\n",
    "    This encoder takes a UTF-8 string and encodes its bytes into a Tensor. It can also\n",
    "    perform the opposite operation to check a result.\n",
    "    Examples:\n",
    "    >>> encoder = CharByteEncoder()\n",
    "    >>> t = encoder('Ślusàrski')  # returns tensor([256, 197, 154, 108, 117, 115, 195, 160, 114, 115, 107, 105, 257])\n",
    "    >>> encoder.decode(t)  # returns \"<s>Ślusàrski</s>\"\n",
    "    \"\"\"\n",
    "\n",
    "    def __init__(self):\n",
    "        super().__init__()\n",
    "        self.start_token = \"<s>\"\n",
    "        self.end_token = \"</s>\"\n",
    "        self.pad_token = \"<pad>\"\n",
    "\n",
    "        self.start_idx = 256\n",
    "        self.end_idx = 257\n",
    "        self.pad_idx = 258\n",
    "\n",
    "    def forward(self, s: str, pad_to=0) -> torch.LongTensor:\n",
    "        \"\"\"\n",
    "        Encodes a string. It will append a start token <s> (id=self.start_idx) and an end token </s>\n",
    "        (id=self.end_idx).\n",
    "        Args:\n",
    "            s: The string to encode.\n",
    "            pad_to: If not zero, pad by appending self.pad_idx until string is of length `pad_to`.\n",
    "                Defaults to 0.\n",
    "        Returns:\n",
    "            The encoded LongTensor of indices.\n",
    "        \"\"\"\n",
    "        encoded = s.encode()\n",
    "        n_pad = pad_to - len(encoded) if pad_to > len(encoded) else 0\n",
    "        return torch.LongTensor(\n",
    "            [self.start_idx]\n",
    "            + [c for c in encoded]  # noqa\n",
    "            + [self.end_idx]\n",
    "            + [self.pad_idx for _ in range(n_pad)]\n",
    "        )\n",
    "\n",
    "    def decode(self, char_ids_tensor: torch.LongTensor) -> str:\n",
    "        \"\"\"\n",
    "        The inverse of `forward`. Keeps the start, end and pad indices.\n",
    "        \"\"\"\n",
    "        char_ids = char_ids_tensor.cpu().detach().tolist()\n",
    "\n",
    "        out = []\n",
    "        buf = []\n",
    "        for c in char_ids:\n",
    "            if c < 256:\n",
    "                buf.append(c)\n",
    "            else:\n",
    "                if buf:\n",
    "                    out.append(bytes(buf).decode())\n",
    "                    buf = []\n",
    "                if c == self.start_idx:\n",
    "                    out.append(self.start_token)\n",
    "                elif c == self.end_idx:\n",
    "                    out.append(self.end_token)\n",
    "                elif c == self.pad_idx:\n",
    "                    out.append(self.pad_token)\n",
    "\n",
    "        if buf:  # in case some are left\n",
    "            out.append(bytes(buf).decode())\n",
    "        return \"\".join(out)\n",
    "\n",
    "    def __len__(self):\n",
    "        \"\"\"\n",
    "        The length of our encoder space. This is fixed to 256 (one byte) + 3 special chars\n",
    "        (start, end, pad).\n",
    "        Returns:\n",
    "            259\n",
    "        \"\"\"\n",
    "        return 259"
   ]
  },
  {
   "cell_type": "markdown",
   "metadata": {},
   "source": [
    "## Training / Validation Set Preparation"
   ]
  },
  {
   "cell_type": "code",
   "execution_count": 4,
   "metadata": {},
   "outputs": [],
   "source": [
    "from torch.nn.utils.rnn import pad_sequence\n",
    "\n",
    "def padded_collate(batch, padding_idx=0):\n",
    "    x = pad_sequence(\n",
    "        [elem[0] for elem in batch], batch_first=True, padding_value=padding_idx\n",
    "    )\n",
    "    y = torch.stack([elem[1] for elem in batch]).long()\n",
    "\n",
    "    return x, y"
   ]
  },
  {
   "cell_type": "code",
   "execution_count": 5,
   "metadata": {},
   "outputs": [],
   "source": [
    "from torch.utils.data import Dataset\n",
    "from pathlib import Path\n",
    "\n",
    "\n",
    "class NamesDataset(Dataset):\n",
    "    def __init__(self, root):\n",
    "        self.root = Path(root)\n",
    "\n",
    "        self.labels = list({langfile.stem for langfile in self.root.iterdir()})\n",
    "        self.labels_dict = {label: i for i, label in enumerate(self.labels)}\n",
    "        self.encoder = CharByteEncoder()\n",
    "        self.samples = self.construct_samples()\n",
    "\n",
    "    def __getitem__(self, i):\n",
    "        return self.samples[i]\n",
    "\n",
    "    def __len__(self):\n",
    "        return len(self.samples)\n",
    "\n",
    "    def construct_samples(self):\n",
    "        samples = []\n",
    "        for langfile in self.root.iterdir():\n",
    "            label_name = langfile.stem\n",
    "            label_id = self.labels_dict[label_name]\n",
    "            with open(langfile, \"r\") as fin:\n",
    "                for row in fin:\n",
    "                    samples.append(\n",
    "                        (self.encoder(row.strip()), torch.tensor(label_id).long())\n",
    "                    )\n",
    "        return samples\n",
    "\n",
    "    def label_count(self):\n",
    "        cnt = Counter()\n",
    "        for _x, y in self.samples:\n",
    "            label = self.labels[int(y)]\n",
    "            cnt[label] += 1\n",
    "        return cnt\n",
    "\n",
    "\n",
    "VOCAB_SIZE = 256 + 3  # 256 alternatives in one byte, plus 3 special characters.\n"
   ]
  },
  {
   "cell_type": "markdown",
   "metadata": {},
   "source": [
    "We split the dataset into a 80-20 split for training and validation. "
   ]
  },
  {
   "cell_type": "code",
   "execution_count": 6,
   "metadata": {},
   "outputs": [
    {
     "name": "stdout",
     "output_type": "stream",
     "text": [
      "16059 samples for training, 4015 for testing\n"
     ]
    }
   ],
   "source": [
    "secure_rng = False\n",
    "train_split = 0.8\n",
    "test_every = 5\n",
    "batch_size = 800\n",
    "\n",
    "ds = NamesDataset(names_folder)\n",
    "train_len = int(train_split * len(ds))\n",
    "test_len = len(ds) - train_len\n",
    "\n",
    "print(f\"{train_len} samples for training, {test_len} for testing\")\n",
    "\n",
    "if secure_rng:\n",
    "    try:\n",
    "        import torchcsprng as prng\n",
    "    except ImportError as e:\n",
    "        msg = (\n",
    "            \"To use secure RNG, you must install the torchcsprng package! \"\n",
    "            \"Check out the instructions here: https://github.com/pytorch/csprng#installation\"\n",
    "        )\n",
    "        raise ImportError(msg) from e\n",
    "\n",
    "    generator = prng.create_random_device_generator(\"/dev/urandom\")\n",
    "\n",
    "else:\n",
    "    generator = None\n",
    "\n",
    "train_ds, test_ds = torch.utils.data.random_split(\n",
    "    ds, [train_len, test_len], generator=generator\n",
    ")"
   ]
  },
  {
   "cell_type": "code",
   "execution_count": 7,
   "metadata": {},
   "outputs": [],
   "source": [
    "from torch.utils.data import DataLoader\n",
    "from opacus.utils.uniform_sampler import UniformWithReplacementSampler\n",
    "\n",
    "sample_rate = batch_size / len(train_ds)\n",
    "\n",
    "train_loader = DataLoader(\n",
    "    train_ds,\n",
    "    num_workers=8,\n",
    "    pin_memory=True,\n",
    "    generator=generator,\n",
    "    batch_sampler=UniformWithReplacementSampler(\n",
    "        num_samples=len(train_ds),\n",
    "        sample_rate=sample_rate,\n",
    "        generator=generator,\n",
    "    ),\n",
    "    collate_fn=padded_collate,\n",
    ")\n",
    "\n",
    "test_loader = DataLoader(\n",
    "    test_ds,\n",
    "    batch_size=2 * batch_size,\n",
    "    shuffle=False,\n",
    "    num_workers=8,\n",
    "    pin_memory=True,\n",
    "    collate_fn=padded_collate,\n",
    ")"
   ]
  },
  {
   "cell_type": "markdown",
   "metadata": {},
   "source": [
    "After splitting the dataset into a training and a validation set, we now have to convert the data into a numeric form suitable for training the LSTM model. For each name, we set a maximum sequence length of 15, and if a name is longer than the threshold, we truncate it (this rarely happens this dataset !). If a name is smaller than the threshold, we add a dummy `#` character to pad it to the desired length. We also batch the names in the dataset and set a batch size of 256 for all the experiments in this tutorial. The function `line_to_tensor()` returns a tensor of shape [15, 256] where each element is the index (in `all_letters`) of the corresponding character."
   ]
  },
  {
   "cell_type": "markdown",
   "metadata": {},
   "source": [
    "## Training/Evaluation Cycle "
   ]
  },
  {
   "cell_type": "markdown",
   "metadata": {},
   "source": [
    "The training and the evaluation functions `train()` and `test()` are defined below. During the training loop, the per-example gradients are computed and the parameters are updated subsequent to gradient clipping (to bound their sensitivity) and addition of noise.  "
   ]
  },
  {
   "cell_type": "code",
   "execution_count": 8,
   "metadata": {},
   "outputs": [],
   "source": [
    "from statistics import mean\n",
    "\n",
    "def train(model, criterion, optimizer, train_loader, epoch, device=\"cuda:0\"):\n",
    "    accs = []\n",
    "    losses = []\n",
    "    for x, y in tqdm(train_loader):\n",
    "        x = x.to(device)\n",
    "        y = y.to(device)\n",
    "\n",
    "        logits = model(x)\n",
    "        loss = criterion(logits, y)\n",
    "        loss.backward()\n",
    "\n",
    "        optimizer.step()\n",
    "        optimizer.zero_grad()\n",
    "\n",
    "        preds = logits.argmax(-1)\n",
    "        n_correct = float(preds.eq(y).sum())\n",
    "        batch_accuracy = n_correct / len(y)\n",
    "\n",
    "        accs.append(batch_accuracy)\n",
    "        losses.append(float(loss))\n",
    "\n",
    "    printstr = (\n",
    "        f\"\\t Epoch {epoch}. Accuracy: {mean(accs):.6f} | Loss: {mean(losses):.6f}\"\n",
    "    )\n",
    "    try:\n",
    "        privacy_engine = optimizer.privacy_engine\n",
    "        epsilon, best_alpha = privacy_engine.get_privacy_spent()\n",
    "        printstr += f\" | (ε = {epsilon:.2f}, δ = {privacy_engine.target_delta}) for α = {best_alpha}\"\n",
    "    except AttributeError:\n",
    "        pass\n",
    "    print(printstr)\n",
    "    return\n",
    "\n",
    "\n",
    "def test(model, test_loader, privacy_engine, device=\"cuda:0\"):\n",
    "    accs = []\n",
    "    with torch.no_grad():\n",
    "        for x, y in tqdm(test_loader):\n",
    "            x = x.to(device)\n",
    "            y = y.to(device)\n",
    "\n",
    "            preds = model(x).argmax(-1)\n",
    "            n_correct = float(preds.eq(y).sum())\n",
    "            batch_accuracy = n_correct / len(y)\n",
    "\n",
    "            accs.append(batch_accuracy)\n",
    "    printstr = \"\\n----------------------------\\n\" f\"Test Accuracy: {mean(accs):.6f}\"\n",
    "    if privacy_engine:\n",
    "        epsilon, best_alpha = privacy_engine.get_privacy_spent()\n",
    "        printstr += f\" (ε = {epsilon:.2f}, δ = {privacy_engine.target_delta}) for α = {best_alpha}\"\n",
    "    print(printstr + \"\\n----------------------------\\n\")\n",
    "    return\n"
   ]
  },
  {
   "cell_type": "markdown",
   "metadata": {},
   "source": [
    "## Hyper-parameters"
   ]
  },
  {
   "cell_type": "markdown",
   "metadata": {},
   "source": [
    "There are two sets of hyper-parameters associated with this model. The first are hyper-parameters which we would expect in any machine learning training, such as the learning rate and batch size. The second set are related to the privacy engine, where for example we define the amount of noise added to the gradients (`noise_multiplier`), and the maximum L2 norm to which the per-sample gradients are clipped (`max_grad_norm`). "
   ]
  },
  {
   "cell_type": "code",
   "execution_count": 9,
   "metadata": {},
   "outputs": [],
   "source": [
    "# Training hyper-parameters\n",
    "epochs = 50\n",
    "learning_rate = 2.0\n",
    "\n",
    "# Privacy engine hyper-parameters\n",
    "sigma = 1.0\n",
    "max_per_sample_grad_norm = 1.5\n",
    "delta = 8e-5"
   ]
  },
  {
   "cell_type": "markdown",
   "metadata": {},
   "source": [
    "## Model"
   ]
  },
  {
   "cell_type": "markdown",
   "metadata": {},
   "source": [
    "We define the name classification model in the cell below. Note that it is a simple char-LSTM classifier, where the input characters are passed through an `nn.Embedding` layer, and are subsequently input to the DPLSTM. "
   ]
  },
  {
   "cell_type": "code",
   "execution_count": 10,
   "metadata": {},
   "outputs": [],
   "source": [
    "import torch\n",
    "from torch import nn\n",
    "from opacus.layers import DPLSTM\n",
    "\n",
    "class CharNNClassifier(nn.Module):\n",
    "    def __init__(\n",
    "        self,\n",
    "        embedding_size,\n",
    "        hidden_size,\n",
    "        output_size,\n",
    "        num_lstm_layers=1,\n",
    "        bidirectional=False,\n",
    "        vocab_size=VOCAB_SIZE,\n",
    "    ):\n",
    "        super().__init__()\n",
    "\n",
    "        self.embedding_size = embedding_size\n",
    "        self.hidden_size = hidden_size\n",
    "        self.output_size = output_size\n",
    "        self.vocab_size = vocab_size\n",
    "\n",
    "        self.embedding = nn.Embedding(vocab_size, embedding_size)\n",
    "        self.lstm = DPLSTM(\n",
    "            embedding_size,\n",
    "            hidden_size,\n",
    "            num_layers=num_lstm_layers,\n",
    "            bidirectional=bidirectional,\n",
    "            batch_first=True,\n",
    "        )\n",
    "        self.out_layer = nn.Linear(hidden_size, output_size)\n",
    "\n",
    "    def forward(self, x, hidden=None):\n",
    "        x = self.embedding(x)  # -> [B, T, D]\n",
    "        x, _ = self.lstm(x, hidden)  # -> [B, T, H]\n",
    "        x = x[:, -1, :]  # -> [B, H]\n",
    "        x = self.out_layer(x)  # -> [B, C]\n",
    "        return x"
   ]
  },
  {
   "cell_type": "markdown",
   "metadata": {},
   "source": [
    "We now proceed to instantiate the objects (privacy engine, model and optimizer) for our differentially-private LSTM training.  However, the `nn.LSTM` is replaced with a `DPLSTM` module which enables us to calculate per-example gradients. "
   ]
  },
  {
   "cell_type": "code",
   "execution_count": 11,
   "metadata": {},
   "outputs": [],
   "source": [
    "# Set the device to run on a GPU\n",
    "device = torch.device(\"cuda\" if torch.cuda.is_available() else \"cpu\")\n",
    "\n",
    "# Define classifier parameters\n",
    "embedding_size = 64\n",
    "hidden_size = 128  # Number of neurons in hidden layer after LSTM\n",
    "n_lstm_layers = 1\n",
    "bidirectional_lstm = False\n",
    "\n",
    "model = CharNNClassifier(\n",
    "    embedding_size,\n",
    "    hidden_size,\n",
    "    len(ds.labels),\n",
    "    n_lstm_layers,\n",
    "    bidirectional_lstm,\n",
    ").to(device)"
   ]
  },
  {
   "cell_type": "markdown",
   "metadata": {},
   "source": [
    "## Defining the privacy engine, optimizer and loss criterion for the problem"
   ]
  },
  {
   "cell_type": "code",
   "execution_count": 12,
   "metadata": {},
   "outputs": [],
   "source": [
    "criterion = nn.CrossEntropyLoss()\n",
    "optimizer = torch.optim.SGD(model.parameters(), lr=learning_rate)"
   ]
  },
  {
   "cell_type": "code",
   "execution_count": 13,
   "metadata": {},
   "outputs": [
    {
     "name": "stderr",
     "output_type": "stream",
     "text": [
      "/private/home/asablayrolles/code/projects/opacus/opacus/privacy_engine.py:120: UserWarning: Secure RNG turned off. This is perfectly fine for experimentation as it allows for much faster training performance, but remember to turn it on and retrain one last time before production with ``secure_rng`` turned on.\n",
      "  \"Secure RNG turned off. This is perfectly fine for experimentation as it allows \"\n"
     ]
    }
   ],
   "source": [
    "from opacus import PrivacyEngine\n",
    "\n",
    "privacy_engine = PrivacyEngine(\n",
    "    model,\n",
    "    sample_rate=sample_rate,\n",
    "    alphas=[1 + x / 10.0 for x in range(1, 100)] + list(range(12, 64)),\n",
    "    noise_multiplier=sigma,\n",
    "    max_grad_norm=max_per_sample_grad_norm,\n",
    "    target_delta=delta,\n",
    "    secure_rng=secure_rng,\n",
    ")\n",
    "privacy_engine.attach(optimizer)"
   ]
  },
  {
   "cell_type": "markdown",
   "metadata": {},
   "source": [
    "## Training the name classifier with privacy"
   ]
  },
  {
   "cell_type": "markdown",
   "metadata": {},
   "source": [
    "Finally we can start training ! We will be training for 50 epochs iterations (where each epoch corresponds to a pass over the whole dataset). We will be reporting the privacy epsilon every `test_every` epochs. We have also benchmarked this differentially-private model against a model without privacy and obtain almost identical performance. Further, the private model trained with Opacus incurs only minimal overhead in training time, with the differentially-private classifier only slightly slower (by a couple of minutes) than the non-private model."
   ]
  },
  {
   "cell_type": "code",
   "execution_count": 14,
   "metadata": {},
   "outputs": [
    {
     "name": "stderr",
     "output_type": "stream",
     "text": [
      "  0%|          | 0/50 [00:00<?, ?it/s]\n",
      "  0%|          | 0/20 [00:00<?, ?it/s]\u001b[A"
     ]
    },
    {
     "name": "stdout",
     "output_type": "stream",
     "text": [
      "Train stats: \n",
      "\n"
     ]
    },
    {
     "name": "stderr",
     "output_type": "stream",
     "text": [
      "\n",
      "  5%|▌         | 1/20 [00:00<00:07,  2.52it/s]\u001b[A\n",
      " 10%|█         | 2/20 [00:00<00:05,  3.22it/s]\u001b[A\n",
      " 20%|██        | 4/20 [00:00<00:03,  4.11it/s]\u001b[A\n",
      " 30%|███       | 6/20 [00:00<00:02,  5.14it/s]\u001b[A\n",
      " 40%|████      | 8/20 [00:00<00:01,  6.28it/s]\u001b[A\n",
      " 50%|█████     | 10/20 [00:01<00:01,  7.20it/s]\u001b[A\n",
      " 60%|██████    | 12/20 [00:01<00:01,  7.93it/s]\u001b[A\n",
      " 70%|███████   | 14/20 [00:01<00:00,  8.79it/s]\u001b[A\n",
      " 80%|████████  | 16/20 [00:01<00:00,  9.44it/s]\u001b[A\n",
      " 90%|█████████ | 18/20 [00:01<00:00,  9.97it/s]\u001b[A\n",
      "100%|██████████| 20/20 [00:02<00:00, 10.38it/s]\u001b[A\n",
      "  0%|          | 0/3 [00:00<?, ?it/s]\u001b[A"
     ]
    },
    {
     "name": "stdout",
     "output_type": "stream",
     "text": [
      "\t Epoch 0. Accuracy: 0.429625 | Loss: 2.185477 | (ε = 2.59, δ = 8e-05) for α = 5.6\n"
     ]
    },
    {
     "name": "stderr",
     "output_type": "stream",
     "text": [
      "\n",
      " 33%|███▎      | 1/3 [00:00<00:00,  7.75it/s]\u001b[A\n",
      "  2%|▏         | 1/50 [00:02<01:59,  2.43s/it][A\n",
      "  0%|          | 0/20 [00:00<?, ?it/s]\u001b[A"
     ]
    },
    {
     "name": "stdout",
     "output_type": "stream",
     "text": [
      "\n",
      "----------------------------\n",
      "Test Accuracy: 0.470559 (ε = 2.59, δ = 8e-05) for α = 5.6\n",
      "----------------------------\n",
      "\n"
     ]
    },
    {
     "name": "stderr",
     "output_type": "stream",
     "text": [
      "\n",
      "  5%|▌         | 1/20 [00:00<00:04,  4.21it/s]\u001b[A\n",
      " 15%|█▌        | 3/20 [00:00<00:03,  5.21it/s]\u001b[A\n",
      " 25%|██▌       | 5/20 [00:00<00:02,  6.27it/s]\u001b[A\n",
      " 35%|███▌      | 7/20 [00:00<00:01,  7.18it/s]\u001b[A\n",
      " 45%|████▌     | 9/20 [00:00<00:01,  8.22it/s]\u001b[A\n",
      " 55%|█████▌    | 11/20 [00:01<00:01,  8.99it/s]\u001b[A\n",
      " 65%|██████▌   | 13/20 [00:01<00:00,  9.80it/s]\u001b[A\n",
      " 75%|███████▌  | 15/20 [00:01<00:00, 10.18it/s]\u001b[A\n",
      " 85%|████████▌ | 17/20 [00:01<00:00, 10.26it/s]\u001b[A\n",
      " 95%|█████████▌| 19/20 [00:01<00:00, 10.67it/s]\u001b[A\n",
      "  4%|▍         | 2/50 [00:04<01:50,  2.30s/it]]\u001b[A\n",
      "  0%|          | 0/20 [00:00<?, ?it/s]\u001b[A"
     ]
    },
    {
     "name": "stdout",
     "output_type": "stream",
     "text": [
      "\t Epoch 1. Accuracy: 0.468625 | Loss: 1.940962 | (ε = 3.07, δ = 8e-05) for α = 5.2\n"
     ]
    },
    {
     "name": "stderr",
     "output_type": "stream",
     "text": [
      "\n",
      "  5%|▌         | 1/20 [00:00<00:04,  4.26it/s]\u001b[A\n",
      " 15%|█▌        | 3/20 [00:00<00:03,  5.19it/s]\u001b[A\n",
      " 25%|██▌       | 5/20 [00:00<00:02,  6.21it/s]\u001b[A\n",
      " 35%|███▌      | 7/20 [00:00<00:01,  7.35it/s]\u001b[A\n",
      " 45%|████▌     | 9/20 [00:00<00:01,  8.25it/s]\u001b[A\n",
      " 55%|█████▌    | 11/20 [00:01<00:00,  9.08it/s]\u001b[A\n",
      " 65%|██████▌   | 13/20 [00:01<00:00,  9.76it/s]\u001b[A\n",
      " 75%|███████▌  | 15/20 [00:01<00:00, 10.44it/s]\u001b[A\n",
      " 85%|████████▌ | 17/20 [00:01<00:00, 10.75it/s]\u001b[A\n",
      " 95%|█████████▌| 19/20 [00:01<00:00, 11.22it/s]\u001b[A\n",
      "  6%|▌         | 3/50 [00:06<01:43,  2.20s/it]]\u001b[A\n",
      "  0%|          | 0/20 [00:00<?, ?it/s]\u001b[A"
     ]
    },
    {
     "name": "stdout",
     "output_type": "stream",
     "text": [
      "\t Epoch 2. Accuracy: 0.468188 | Loss: 1.928116 | (ε = 3.46, δ = 8e-05) for α = 5.0\n"
     ]
    },
    {
     "name": "stderr",
     "output_type": "stream",
     "text": [
      "\n",
      "  5%|▌         | 1/20 [00:00<00:03,  4.81it/s]\u001b[A\n",
      " 15%|█▌        | 3/20 [00:00<00:02,  5.78it/s]\u001b[A\n",
      " 25%|██▌       | 5/20 [00:00<00:02,  6.79it/s]\u001b[A\n",
      " 35%|███▌      | 7/20 [00:00<00:01,  7.79it/s]\u001b[A\n",
      " 45%|████▌     | 9/20 [00:00<00:01,  8.88it/s]\u001b[A\n",
      " 55%|█████▌    | 11/20 [00:01<00:00,  9.55it/s]\u001b[A\n",
      " 65%|██████▌   | 13/20 [00:01<00:00, 10.01it/s]\u001b[A\n",
      " 75%|███████▌  | 15/20 [00:01<00:00, 10.29it/s]\u001b[A\n",
      " 85%|████████▌ | 17/20 [00:01<00:00, 10.49it/s]\u001b[A\n",
      " 95%|█████████▌| 19/20 [00:01<00:00, 10.72it/s]\u001b[A\n",
      "  8%|▊         | 4/50 [00:08<01:38,  2.13s/it]]\u001b[A\n",
      "  0%|          | 0/20 [00:00<?, ?it/s]\u001b[A"
     ]
    },
    {
     "name": "stdout",
     "output_type": "stream",
     "text": [
      "\t Epoch 3. Accuracy: 0.468250 | Loss: 1.907378 | (ε = 3.81, δ = 8e-05) for α = 4.8\n"
     ]
    },
    {
     "name": "stderr",
     "output_type": "stream",
     "text": [
      "\n",
      "  5%|▌         | 1/20 [00:00<00:04,  4.44it/s]\u001b[A\n",
      " 15%|█▌        | 3/20 [00:00<00:03,  5.50it/s]\u001b[A\n",
      " 25%|██▌       | 5/20 [00:00<00:02,  6.47it/s]\u001b[A\n",
      " 30%|███       | 6/20 [00:00<00:01,  7.23it/s]\u001b[A\n",
      " 40%|████      | 8/20 [00:00<00:01,  8.23it/s]\u001b[A\n",
      " 50%|█████     | 10/20 [00:01<00:01,  8.90it/s]\u001b[A\n",
      " 60%|██████    | 12/20 [00:01<00:00,  9.87it/s]\u001b[A\n",
      " 70%|███████   | 14/20 [00:01<00:00, 10.32it/s]\u001b[A\n",
      " 80%|████████  | 16/20 [00:01<00:00, 10.89it/s]\u001b[A\n",
      " 90%|█████████ | 18/20 [00:01<00:00, 11.09it/s]\u001b[A\n",
      " 10%|█         | 5/50 [00:10<01:33,  2.07s/it]]\u001b[A\n",
      "  0%|          | 0/20 [00:00<?, ?it/s]\u001b[A"
     ]
    },
    {
     "name": "stdout",
     "output_type": "stream",
     "text": [
      "\t Epoch 4. Accuracy: 0.477125 | Loss: 1.833195 | (ε = 4.12, δ = 8e-05) for α = 4.6\n"
     ]
    },
    {
     "name": "stderr",
     "output_type": "stream",
     "text": [
      "\n",
      "  5%|▌         | 1/20 [00:00<00:03,  4.83it/s]\u001b[A\n",
      " 15%|█▌        | 3/20 [00:00<00:02,  5.79it/s]\u001b[A\n",
      " 25%|██▌       | 5/20 [00:00<00:02,  6.90it/s]\u001b[A\n",
      " 30%|███       | 6/20 [00:00<00:01,  7.60it/s]\u001b[A\n",
      " 40%|████      | 8/20 [00:00<00:01,  8.56it/s]\u001b[A\n",
      " 50%|█████     | 10/20 [00:00<00:01,  9.34it/s]\u001b[A\n",
      " 60%|██████    | 12/20 [00:01<00:00,  9.97it/s]\u001b[A\n",
      " 70%|███████   | 14/20 [00:01<00:00, 10.40it/s]\u001b[A\n",
      " 80%|████████  | 16/20 [00:01<00:00, 10.95it/s]\u001b[A\n",
      " 90%|█████████ | 18/20 [00:01<00:00, 11.45it/s]\u001b[A\n",
      "100%|██████████| 20/20 [00:01<00:00, 11.56it/s]\u001b[A\n",
      "  0%|          | 0/3 [00:00<?, ?it/s]\u001b[A"
     ]
    },
    {
     "name": "stdout",
     "output_type": "stream",
     "text": [
      "\t Epoch 5. Accuracy: 0.538125 | Loss: 1.566213 | (ε = 4.41, δ = 8e-05) for α = 4.5\n"
     ]
    },
    {
     "name": "stderr",
     "output_type": "stream",
     "text": [
      "\n",
      " 33%|███▎      | 1/3 [00:00<00:00,  7.89it/s]\u001b[A\n",
      " 12%|█▏        | 6/50 [00:12<01:32,  2.11s/it][A\n",
      "  0%|          | 0/20 [00:00<?, ?it/s]\u001b[A"
     ]
    },
    {
     "name": "stdout",
     "output_type": "stream",
     "text": [
      "\n",
      "----------------------------\n",
      "Test Accuracy: 0.552575 (ε = 4.41, δ = 8e-05) for α = 4.5\n",
      "----------------------------\n",
      "\n"
     ]
    },
    {
     "name": "stderr",
     "output_type": "stream",
     "text": [
      "\n",
      "  5%|▌         | 1/20 [00:00<00:04,  4.43it/s]\u001b[A\n",
      " 15%|█▌        | 3/20 [00:00<00:03,  5.52it/s]\u001b[A\n",
      " 25%|██▌       | 5/20 [00:00<00:02,  6.51it/s]\u001b[A\n",
      " 35%|███▌      | 7/20 [00:00<00:01,  7.56it/s]\u001b[A\n",
      " 45%|████▌     | 9/20 [00:00<00:01,  8.48it/s]\u001b[A\n",
      " 55%|█████▌    | 11/20 [00:01<00:00,  9.21it/s]\u001b[A\n",
      " 65%|██████▌   | 13/20 [00:01<00:00,  9.87it/s]\u001b[A\n",
      " 75%|███████▌  | 15/20 [00:01<00:00, 10.25it/s]\u001b[A\n",
      " 85%|████████▌ | 17/20 [00:01<00:00, 10.39it/s]\u001b[A\n",
      " 95%|█████████▌| 19/20 [00:01<00:00, 10.56it/s]\u001b[A\n",
      " 14%|█▍        | 7/50 [00:14<01:28,  2.07s/it]]\u001b[A\n",
      "  0%|          | 0/20 [00:00<?, ?it/s]\u001b[A"
     ]
    },
    {
     "name": "stdout",
     "output_type": "stream",
     "text": [
      "\t Epoch 6. Accuracy: 0.556937 | Loss: 1.512054 | (ε = 4.67, δ = 8e-05) for α = 4.3\n"
     ]
    },
    {
     "name": "stderr",
     "output_type": "stream",
     "text": [
      "\n",
      "  5%|▌         | 1/20 [00:00<00:04,  4.35it/s]\u001b[A\n",
      " 15%|█▌        | 3/20 [00:00<00:03,  5.35it/s]\u001b[A\n",
      " 25%|██▌       | 5/20 [00:00<00:02,  6.40it/s]\u001b[A\n",
      " 35%|███▌      | 7/20 [00:00<00:01,  7.50it/s]\u001b[A\n",
      " 45%|████▌     | 9/20 [00:00<00:01,  8.34it/s]\u001b[A\n",
      " 55%|█████▌    | 11/20 [00:01<00:00,  9.10it/s]\u001b[A\n",
      " 65%|██████▌   | 13/20 [00:01<00:00,  9.84it/s]\u001b[A\n",
      " 75%|███████▌  | 15/20 [00:01<00:00, 10.58it/s]\u001b[A\n",
      " 85%|████████▌ | 17/20 [00:01<00:00, 10.93it/s]\u001b[A\n",
      " 95%|█████████▌| 19/20 [00:01<00:00, 11.11it/s]\u001b[A\n",
      " 16%|█▌        | 8/50 [00:16<01:25,  2.03s/it]]\u001b[A\n",
      "  0%|          | 0/20 [00:00<?, ?it/s]\u001b[A"
     ]
    },
    {
     "name": "stdout",
     "output_type": "stream",
     "text": [
      "\t Epoch 7. Accuracy: 0.562937 | Loss: 1.503791 | (ε = 4.93, δ = 8e-05) for α = 4.2\n"
     ]
    },
    {
     "name": "stderr",
     "output_type": "stream",
     "text": [
      "\n",
      "  5%|▌         | 1/20 [00:00<00:04,  4.54it/s]\u001b[A\n",
      " 15%|█▌        | 3/20 [00:00<00:03,  5.60it/s]\u001b[A\n",
      " 25%|██▌       | 5/20 [00:00<00:02,  6.68it/s]\u001b[A\n",
      " 35%|███▌      | 7/20 [00:00<00:01,  7.76it/s]\u001b[A\n",
      " 45%|████▌     | 9/20 [00:00<00:01,  8.75it/s]\u001b[A\n",
      " 55%|█████▌    | 11/20 [00:01<00:00,  9.48it/s]\u001b[A\n",
      " 65%|██████▌   | 13/20 [00:01<00:00, 10.15it/s]\u001b[A\n",
      " 75%|███████▌  | 15/20 [00:01<00:00, 10.53it/s]\u001b[A\n",
      " 85%|████████▌ | 17/20 [00:01<00:00, 10.59it/s]\u001b[A\n",
      " 95%|█████████▌| 19/20 [00:01<00:00, 10.94it/s]\u001b[A\n",
      " 18%|█▊        | 9/50 [00:18<01:22,  2.01s/it]]\u001b[A\n",
      "  0%|          | 0/20 [00:00<?, ?it/s]\u001b[A"
     ]
    },
    {
     "name": "stdout",
     "output_type": "stream",
     "text": [
      "\t Epoch 8. Accuracy: 0.563813 | Loss: 1.510231 | (ε = 5.17, δ = 8e-05) for α = 4.1\n"
     ]
    },
    {
     "name": "stderr",
     "output_type": "stream",
     "text": [
      "\n",
      "  5%|▌         | 1/20 [00:00<00:04,  4.72it/s]\u001b[A\n",
      " 15%|█▌        | 3/20 [00:00<00:02,  5.68it/s]\u001b[A\n",
      " 25%|██▌       | 5/20 [00:00<00:02,  6.70it/s]\u001b[A\n",
      " 35%|███▌      | 7/20 [00:00<00:01,  7.78it/s]\u001b[A\n",
      " 45%|████▌     | 9/20 [00:00<00:01,  8.76it/s]\u001b[A\n",
      " 55%|█████▌    | 11/20 [00:01<00:00,  9.44it/s]\u001b[A\n",
      " 65%|██████▌   | 13/20 [00:01<00:00, 10.25it/s]\u001b[A\n",
      " 75%|███████▌  | 15/20 [00:01<00:00, 10.61it/s]\u001b[A\n",
      " 85%|████████▌ | 17/20 [00:01<00:00, 11.10it/s]\u001b[A\n",
      " 95%|█████████▌| 19/20 [00:01<00:00, 11.06it/s]\u001b[A\n",
      " 20%|██        | 10/50 [00:20<01:19,  1.99s/it]\u001b[A\n",
      "  0%|          | 0/20 [00:00<?, ?it/s]\u001b[A"
     ]
    },
    {
     "name": "stdout",
     "output_type": "stream",
     "text": [
      "\t Epoch 9. Accuracy: 0.568250 | Loss: 1.504014 | (ε = 5.41, δ = 8e-05) for α = 4.0\n"
     ]
    },
    {
     "name": "stderr",
     "output_type": "stream",
     "text": [
      "\n",
      "  5%|▌         | 1/20 [00:00<00:03,  4.77it/s]\u001b[A\n",
      " 15%|█▌        | 3/20 [00:00<00:02,  5.75it/s]\u001b[A\n",
      " 25%|██▌       | 5/20 [00:00<00:02,  6.77it/s]\u001b[A\n",
      " 30%|███       | 6/20 [00:00<00:01,  7.48it/s]\u001b[A\n",
      " 40%|████      | 8/20 [00:00<00:01,  8.60it/s]\u001b[A\n",
      " 50%|█████     | 10/20 [00:00<00:01,  9.31it/s]\u001b[A\n",
      " 60%|██████    | 12/20 [00:01<00:00,  9.88it/s]\u001b[A\n",
      " 70%|███████   | 14/20 [00:01<00:00, 10.19it/s]\u001b[A\n",
      " 80%|████████  | 16/20 [00:01<00:00, 10.63it/s]\u001b[A\n",
      " 90%|█████████ | 18/20 [00:01<00:00, 10.89it/s]\u001b[A\n",
      "100%|██████████| 20/20 [00:01<00:00, 11.24it/s]\u001b[A\n",
      "  0%|          | 0/3 [00:00<?, ?it/s]\u001b[A"
     ]
    },
    {
     "name": "stdout",
     "output_type": "stream",
     "text": [
      "\t Epoch 10. Accuracy: 0.571063 | Loss: 1.497570 | (ε = 5.63, δ = 8e-05) for α = 3.9\n"
     ]
    },
    {
     "name": "stderr",
     "output_type": "stream",
     "text": [
      "\n",
      " 33%|███▎      | 1/3 [00:00<00:00,  7.63it/s]\u001b[A\n",
      " 22%|██▏       | 11/50 [00:22<01:20,  2.06s/it]A\n",
      "  0%|          | 0/20 [00:00<?, ?it/s]\u001b[A"
     ]
    },
    {
     "name": "stdout",
     "output_type": "stream",
     "text": [
      "\n",
      "----------------------------\n",
      "Test Accuracy: 0.574104 (ε = 5.63, δ = 8e-05) for α = 3.9\n",
      "----------------------------\n",
      "\n"
     ]
    },
    {
     "name": "stderr",
     "output_type": "stream",
     "text": [
      "\n",
      "  5%|▌         | 1/20 [00:00<00:04,  4.46it/s]\u001b[A\n",
      " 15%|█▌        | 3/20 [00:00<00:03,  5.42it/s]\u001b[A\n",
      " 25%|██▌       | 5/20 [00:00<00:02,  6.49it/s]\u001b[A\n",
      " 35%|███▌      | 7/20 [00:00<00:01,  7.39it/s]\u001b[A\n",
      " 45%|████▌     | 9/20 [00:00<00:01,  8.37it/s]\u001b[A\n",
      " 55%|█████▌    | 11/20 [00:01<00:00,  9.07it/s]\u001b[A\n",
      " 65%|██████▌   | 13/20 [00:01<00:00,  9.57it/s]\u001b[A\n",
      " 75%|███████▌  | 15/20 [00:01<00:00, 10.08it/s]\u001b[A\n",
      " 85%|████████▌ | 17/20 [00:01<00:00, 10.62it/s]\u001b[A\n",
      " 95%|█████████▌| 19/20 [00:01<00:00, 10.87it/s]\u001b[A\n",
      " 24%|██▍       | 12/50 [00:24<01:17,  2.04s/it]\u001b[A\n",
      "  0%|          | 0/20 [00:00<?, ?it/s]\u001b[A"
     ]
    },
    {
     "name": "stdout",
     "output_type": "stream",
     "text": [
      "\t Epoch 11. Accuracy: 0.576250 | Loss: 1.489521 | (ε = 5.85, δ = 8e-05) for α = 3.9\n"
     ]
    },
    {
     "name": "stderr",
     "output_type": "stream",
     "text": [
      "\n",
      "  5%|▌         | 1/20 [00:00<00:04,  4.48it/s]\u001b[A\n",
      " 15%|█▌        | 3/20 [00:00<00:03,  5.48it/s]\u001b[A\n",
      " 25%|██▌       | 5/20 [00:00<00:02,  6.58it/s]\u001b[A\n",
      " 35%|███▌      | 7/20 [00:00<00:01,  7.52it/s]\u001b[A\n",
      " 45%|████▌     | 9/20 [00:00<00:01,  8.39it/s]\u001b[A\n",
      " 55%|█████▌    | 11/20 [00:01<00:00,  9.19it/s]\u001b[A\n",
      " 65%|██████▌   | 13/20 [00:01<00:00,  9.79it/s]\u001b[A\n",
      " 75%|███████▌  | 15/20 [00:01<00:00, 10.33it/s]\u001b[A\n",
      " 85%|████████▌ | 17/20 [00:01<00:00, 10.88it/s]\u001b[A\n",
      " 95%|█████████▌| 19/20 [00:01<00:00, 11.07it/s]\u001b[A\n",
      " 26%|██▌       | 13/50 [00:26<01:14,  2.02s/it]\u001b[A\n",
      "  0%|          | 0/20 [00:00<?, ?it/s]\u001b[A"
     ]
    },
    {
     "name": "stdout",
     "output_type": "stream",
     "text": [
      "\t Epoch 12. Accuracy: 0.580812 | Loss: 1.485841 | (ε = 6.06, δ = 8e-05) for α = 3.8\n"
     ]
    },
    {
     "name": "stderr",
     "output_type": "stream",
     "text": [
      "\n",
      "  5%|▌         | 1/20 [00:00<00:04,  4.46it/s]\u001b[A\n",
      " 15%|█▌        | 3/20 [00:00<00:03,  5.39it/s]\u001b[A\n",
      " 25%|██▌       | 5/20 [00:00<00:02,  6.52it/s]\u001b[A\n",
      " 35%|███▌      | 7/20 [00:00<00:01,  7.54it/s]\u001b[A\n",
      " 45%|████▌     | 9/20 [00:00<00:01,  8.60it/s]\u001b[A\n",
      " 55%|█████▌    | 11/20 [00:01<00:00,  9.31it/s]\u001b[A\n",
      " 65%|██████▌   | 13/20 [00:01<00:00,  9.88it/s]\u001b[A\n",
      " 75%|███████▌  | 15/20 [00:01<00:00, 10.39it/s]\u001b[A\n",
      " 85%|████████▌ | 17/20 [00:01<00:00, 10.71it/s]\u001b[A\n",
      " 95%|█████████▌| 19/20 [00:01<00:00, 11.11it/s]\u001b[A\n",
      " 28%|██▊       | 14/50 [00:28<01:12,  2.00s/it]\u001b[A\n",
      "  0%|          | 0/20 [00:00<?, ?it/s]\u001b[A"
     ]
    },
    {
     "name": "stdout",
     "output_type": "stream",
     "text": [
      "\t Epoch 13. Accuracy: 0.589063 | Loss: 1.482238 | (ε = 6.27, δ = 8e-05) for α = 3.7\n"
     ]
    },
    {
     "name": "stderr",
     "output_type": "stream",
     "text": [
      "\n",
      "  5%|▌         | 1/20 [00:00<00:03,  4.83it/s]\u001b[A\n",
      " 15%|█▌        | 3/20 [00:00<00:02,  5.80it/s]\u001b[A\n",
      " 25%|██▌       | 5/20 [00:00<00:02,  6.87it/s]\u001b[A\n",
      " 35%|███▌      | 7/20 [00:00<00:01,  7.89it/s]\u001b[A\n",
      " 45%|████▌     | 9/20 [00:00<00:01,  8.72it/s]\u001b[A\n",
      " 55%|█████▌    | 11/20 [00:01<00:00,  9.58it/s]\u001b[A\n",
      " 65%|██████▌   | 13/20 [00:01<00:00, 10.03it/s]\u001b[A\n",
      " 75%|███████▌  | 15/20 [00:01<00:00, 10.65it/s]\u001b[A\n",
      " 85%|████████▌ | 17/20 [00:01<00:00, 10.90it/s]\u001b[A\n",
      " 95%|█████████▌| 19/20 [00:01<00:00, 10.84it/s]\u001b[A\n",
      " 30%|███       | 15/50 [00:30<01:09,  1.99s/it]\u001b[A\n",
      "  0%|          | 0/20 [00:00<?, ?it/s]\u001b[A"
     ]
    },
    {
     "name": "stdout",
     "output_type": "stream",
     "text": [
      "\t Epoch 14. Accuracy: 0.604000 | Loss: 1.459263 | (ε = 6.46, δ = 8e-05) for α = 3.7\n"
     ]
    },
    {
     "name": "stderr",
     "output_type": "stream",
     "text": [
      "\n",
      "  5%|▌         | 1/20 [00:00<00:04,  4.58it/s]\u001b[A\n",
      " 15%|█▌        | 3/20 [00:00<00:03,  5.56it/s]\u001b[A\n",
      " 25%|██▌       | 5/20 [00:00<00:02,  6.75it/s]\u001b[A\n",
      " 35%|███▌      | 7/20 [00:00<00:01,  7.67it/s]\u001b[A\n",
      " 45%|████▌     | 9/20 [00:00<00:01,  8.63it/s]\u001b[A\n",
      " 55%|█████▌    | 11/20 [00:01<00:00,  9.44it/s]\u001b[A\n",
      " 65%|██████▌   | 13/20 [00:01<00:00,  9.92it/s]\u001b[A\n",
      " 75%|███████▌  | 15/20 [00:01<00:00, 10.02it/s]\u001b[A\n",
      " 85%|████████▌ | 17/20 [00:01<00:00, 10.57it/s]\u001b[A\n",
      " 95%|█████████▌| 19/20 [00:01<00:00, 11.00it/s]\u001b[A\n",
      "100%|██████████| 20/20 [00:01<00:00, 10.68it/s]\u001b[A\n",
      "  0%|          | 0/3 [00:00<?, ?it/s]\u001b[A"
     ]
    },
    {
     "name": "stdout",
     "output_type": "stream",
     "text": [
      "\t Epoch 15. Accuracy: 0.622437 | Loss: 1.423232 | (ε = 6.66, δ = 8e-05) for α = 3.6\n"
     ]
    },
    {
     "name": "stderr",
     "output_type": "stream",
     "text": [
      "\n",
      " 33%|███▎      | 1/3 [00:00<00:00,  7.66it/s]\u001b[A\n",
      " 32%|███▏      | 16/50 [00:32<01:09,  2.06s/it]A\n",
      "  0%|          | 0/20 [00:00<?, ?it/s]\u001b[A"
     ]
    },
    {
     "name": "stdout",
     "output_type": "stream",
     "text": [
      "\n",
      "----------------------------\n",
      "Test Accuracy: 0.630179 (ε = 6.66, δ = 8e-05) for α = 3.6\n",
      "----------------------------\n",
      "\n"
     ]
    },
    {
     "name": "stderr",
     "output_type": "stream",
     "text": [
      "\n",
      "  5%|▌         | 1/20 [00:00<00:04,  4.37it/s]\u001b[A\n",
      " 15%|█▌        | 3/20 [00:00<00:03,  5.34it/s]\u001b[A\n",
      " 25%|██▌       | 5/20 [00:00<00:02,  6.41it/s]\u001b[A\n",
      " 35%|███▌      | 7/20 [00:00<00:01,  7.43it/s]\u001b[A\n",
      " 45%|████▌     | 9/20 [00:00<00:01,  8.32it/s]\u001b[A\n",
      " 55%|█████▌    | 11/20 [00:01<00:00,  9.13it/s]\u001b[A\n",
      " 65%|██████▌   | 13/20 [00:01<00:00,  9.62it/s]\u001b[A\n",
      " 75%|███████▌  | 15/20 [00:01<00:00, 10.32it/s]\u001b[A\n",
      " 85%|████████▌ | 17/20 [00:01<00:00, 10.72it/s]\u001b[A\n",
      " 95%|█████████▌| 19/20 [00:01<00:00, 10.71it/s]\u001b[A\n",
      " 34%|███▍      | 17/50 [00:34<01:07,  2.04s/it]\u001b[A\n",
      "  0%|          | 0/20 [00:00<?, ?it/s]\u001b[A"
     ]
    },
    {
     "name": "stdout",
     "output_type": "stream",
     "text": [
      "\t Epoch 16. Accuracy: 0.633563 | Loss: 1.397400 | (ε = 6.85, δ = 8e-05) for α = 3.6\n"
     ]
    },
    {
     "name": "stderr",
     "output_type": "stream",
     "text": [
      "\n",
      "  5%|▌         | 1/20 [00:00<00:03,  4.78it/s]\u001b[A\n",
      " 15%|█▌        | 3/20 [00:00<00:02,  5.76it/s]\u001b[A\n",
      " 25%|██▌       | 5/20 [00:00<00:02,  6.80it/s]\u001b[A\n",
      " 35%|███▌      | 7/20 [00:00<00:01,  7.76it/s]\u001b[A\n",
      " 45%|████▌     | 9/20 [00:00<00:01,  8.42it/s]\u001b[A\n",
      " 55%|█████▌    | 11/20 [00:01<00:00,  9.16it/s]\u001b[A\n",
      " 65%|██████▌   | 13/20 [00:01<00:00,  9.77it/s]\u001b[A\n",
      " 75%|███████▌  | 15/20 [00:01<00:00, 10.17it/s]\u001b[A\n",
      " 85%|████████▌ | 17/20 [00:01<00:00, 10.92it/s]\u001b[A\n",
      " 95%|█████████▌| 19/20 [00:01<00:00, 10.87it/s]\u001b[A\n",
      " 36%|███▌      | 18/50 [00:36<01:04,  2.02s/it]\u001b[A\n",
      "  0%|          | 0/20 [00:00<?, ?it/s]\u001b[A"
     ]
    },
    {
     "name": "stdout",
     "output_type": "stream",
     "text": [
      "\t Epoch 17. Accuracy: 0.647188 | Loss: 1.359415 | (ε = 7.03, δ = 8e-05) for α = 3.5\n"
     ]
    },
    {
     "name": "stderr",
     "output_type": "stream",
     "text": [
      "\n",
      "  5%|▌         | 1/20 [00:00<00:04,  4.52it/s]\u001b[A\n",
      " 10%|█         | 2/20 [00:00<00:03,  5.39it/s]\u001b[A\n",
      " 20%|██        | 4/20 [00:00<00:02,  6.38it/s]\u001b[A\n",
      " 30%|███       | 6/20 [00:00<00:01,  7.34it/s]\u001b[A\n",
      " 40%|████      | 8/20 [00:00<00:01,  8.28it/s]\u001b[A\n",
      " 50%|█████     | 10/20 [00:01<00:01,  9.26it/s]\u001b[A\n",
      " 60%|██████    | 12/20 [00:01<00:00,  9.78it/s]\u001b[A\n",
      " 70%|███████   | 14/20 [00:01<00:00, 10.12it/s]\u001b[A\n",
      " 80%|████████  | 16/20 [00:01<00:00, 10.58it/s]\u001b[A\n",
      " 90%|█████████ | 18/20 [00:01<00:00, 10.85it/s]\u001b[A\n",
      " 38%|███▊      | 19/50 [00:38<01:02,  2.01s/it]\u001b[A\n",
      "  0%|          | 0/20 [00:00<?, ?it/s]\u001b[A"
     ]
    },
    {
     "name": "stdout",
     "output_type": "stream",
     "text": [
      "\t Epoch 18. Accuracy: 0.659375 | Loss: 1.327021 | (ε = 7.22, δ = 8e-05) for α = 3.5\n"
     ]
    },
    {
     "name": "stderr",
     "output_type": "stream",
     "text": [
      "\n",
      "  5%|▌         | 1/20 [00:00<00:04,  4.73it/s]\u001b[A\n",
      " 15%|█▌        | 3/20 [00:00<00:02,  5.74it/s]\u001b[A\n",
      " 25%|██▌       | 5/20 [00:00<00:02,  6.75it/s]\u001b[A\n",
      " 35%|███▌      | 7/20 [00:00<00:01,  7.83it/s]\u001b[A\n",
      " 45%|████▌     | 9/20 [00:00<00:01,  8.81it/s]\u001b[A\n",
      " 55%|█████▌    | 11/20 [00:01<00:00,  9.43it/s]\u001b[A\n",
      " 65%|██████▌   | 13/20 [00:01<00:00,  9.79it/s]\u001b[A\n",
      " 75%|███████▌  | 15/20 [00:01<00:00, 10.61it/s]\u001b[A\n",
      " 85%|████████▌ | 17/20 [00:01<00:00, 10.79it/s]\u001b[A\n",
      " 95%|█████████▌| 19/20 [00:01<00:00, 10.85it/s]\u001b[A\n",
      " 40%|████      | 20/50 [00:40<00:59,  1.99s/it]\u001b[A\n",
      "  0%|          | 0/20 [00:00<?, ?it/s]\u001b[A"
     ]
    },
    {
     "name": "stdout",
     "output_type": "stream",
     "text": [
      "\t Epoch 19. Accuracy: 0.668937 | Loss: 1.309529 | (ε = 7.39, δ = 8e-05) for α = 3.4\n"
     ]
    },
    {
     "name": "stderr",
     "output_type": "stream",
     "text": [
      "\n",
      "  5%|▌         | 1/20 [00:00<00:04,  4.52it/s]\u001b[A\n",
      " 15%|█▌        | 3/20 [00:00<00:03,  5.54it/s]\u001b[A\n",
      " 25%|██▌       | 5/20 [00:00<00:02,  6.67it/s]\u001b[A\n",
      " 35%|███▌      | 7/20 [00:00<00:01,  7.63it/s]\u001b[A\n",
      " 45%|████▌     | 9/20 [00:00<00:01,  8.54it/s]\u001b[A\n",
      " 55%|█████▌    | 11/20 [00:01<00:00,  9.20it/s]\u001b[A\n",
      " 65%|██████▌   | 13/20 [00:01<00:00,  9.80it/s]\u001b[A\n",
      " 75%|███████▌  | 15/20 [00:01<00:00, 10.26it/s]\u001b[A\n",
      " 85%|████████▌ | 17/20 [00:01<00:00, 10.62it/s]\u001b[A\n",
      " 95%|█████████▌| 19/20 [00:01<00:00, 10.80it/s]\u001b[A\n",
      "100%|██████████| 20/20 [00:01<00:00, 10.55it/s]\u001b[A\n",
      "  0%|          | 0/3 [00:00<?, ?it/s]\u001b[A"
     ]
    },
    {
     "name": "stdout",
     "output_type": "stream",
     "text": [
      "\t Epoch 20. Accuracy: 0.668500 | Loss: 1.327612 | (ε = 7.57, δ = 8e-05) for α = 3.4\n"
     ]
    },
    {
     "name": "stderr",
     "output_type": "stream",
     "text": [
      "\n",
      " 33%|███▎      | 1/3 [00:00<00:00,  7.71it/s]\u001b[A\n",
      " 42%|████▏     | 21/50 [00:42<00:59,  2.07s/it]A\n",
      "  0%|          | 0/20 [00:00<?, ?it/s]\u001b[A"
     ]
    },
    {
     "name": "stdout",
     "output_type": "stream",
     "text": [
      "\n",
      "----------------------------\n",
      "Test Accuracy: 0.649833 (ε = 7.57, δ = 8e-05) for α = 3.4\n",
      "----------------------------\n",
      "\n"
     ]
    },
    {
     "name": "stderr",
     "output_type": "stream",
     "text": [
      "\n",
      "  5%|▌         | 1/20 [00:00<00:04,  4.46it/s]\u001b[A\n",
      " 15%|█▌        | 3/20 [00:00<00:03,  5.50it/s]\u001b[A\n",
      " 25%|██▌       | 5/20 [00:00<00:02,  6.54it/s]\u001b[A\n",
      " 35%|███▌      | 7/20 [00:00<00:01,  7.48it/s]\u001b[A\n",
      " 45%|████▌     | 9/20 [00:00<00:01,  8.49it/s]\u001b[A\n",
      " 55%|█████▌    | 11/20 [00:01<00:00,  9.39it/s]\u001b[A\n",
      " 65%|██████▌   | 13/20 [00:01<00:00, 10.07it/s]\u001b[A\n",
      " 75%|███████▌  | 15/20 [00:01<00:00, 10.40it/s]\u001b[A\n",
      " 85%|████████▌ | 17/20 [00:01<00:00, 10.49it/s]\u001b[A\n",
      " 95%|█████████▌| 19/20 [00:01<00:00, 10.93it/s]\u001b[A\n",
      " 44%|████▍     | 22/50 [00:44<00:57,  2.04s/it]\u001b[A\n",
      "  0%|          | 0/20 [00:00<?, ?it/s]\u001b[A"
     ]
    },
    {
     "name": "stdout",
     "output_type": "stream",
     "text": [
      "\t Epoch 21. Accuracy: 0.672687 | Loss: 1.296074 | (ε = 7.74, δ = 8e-05) for α = 3.4\n"
     ]
    },
    {
     "name": "stderr",
     "output_type": "stream",
     "text": [
      "\n",
      "  5%|▌         | 1/20 [00:00<00:04,  4.44it/s]\u001b[A\n",
      " 15%|█▌        | 3/20 [00:00<00:03,  5.43it/s]\u001b[A\n",
      " 25%|██▌       | 5/20 [00:00<00:02,  6.45it/s]\u001b[A\n",
      " 35%|███▌      | 7/20 [00:00<00:01,  7.54it/s]\u001b[A\n",
      " 45%|████▌     | 9/20 [00:00<00:01,  8.55it/s]\u001b[A\n",
      " 55%|█████▌    | 11/20 [00:01<00:00,  9.21it/s]\u001b[A\n",
      " 65%|██████▌   | 13/20 [00:01<00:00,  9.74it/s]\u001b[A\n",
      " 75%|███████▌  | 15/20 [00:01<00:00, 10.28it/s]\u001b[A\n",
      " 85%|████████▌ | 17/20 [00:01<00:00, 10.85it/s]\u001b[A\n",
      " 95%|█████████▌| 19/20 [00:01<00:00, 11.05it/s]\u001b[A\n",
      " 46%|████▌     | 23/50 [00:46<00:54,  2.02s/it]\u001b[A\n",
      "  0%|          | 0/20 [00:00<?, ?it/s]\u001b[A"
     ]
    },
    {
     "name": "stdout",
     "output_type": "stream",
     "text": [
      "\t Epoch 22. Accuracy: 0.681250 | Loss: 1.267687 | (ε = 7.91, δ = 8e-05) for α = 3.3\n"
     ]
    },
    {
     "name": "stderr",
     "output_type": "stream",
     "text": [
      "\n",
      "  5%|▌         | 1/20 [00:00<00:04,  4.37it/s]\u001b[A\n",
      " 15%|█▌        | 3/20 [00:00<00:03,  5.31it/s]\u001b[A\n",
      " 25%|██▌       | 5/20 [00:00<00:02,  6.35it/s]\u001b[A\n",
      " 35%|███▌      | 7/20 [00:00<00:01,  7.48it/s]\u001b[A\n",
      " 45%|████▌     | 9/20 [00:00<00:01,  8.14it/s]\u001b[A\n",
      " 55%|█████▌    | 11/20 [00:01<00:00,  9.09it/s]\u001b[A\n",
      " 65%|██████▌   | 13/20 [00:01<00:00, 10.02it/s]\u001b[A\n",
      " 75%|███████▌  | 15/20 [00:01<00:00, 10.42it/s]\u001b[A\n",
      " 85%|████████▌ | 17/20 [00:01<00:00, 10.73it/s]\u001b[A\n",
      " 95%|█████████▌| 19/20 [00:01<00:00, 11.04it/s]\u001b[A\n",
      " 48%|████▊     | 24/50 [00:48<00:52,  2.00s/it]\u001b[A\n",
      "  0%|          | 0/20 [00:00<?, ?it/s]\u001b[A"
     ]
    },
    {
     "name": "stdout",
     "output_type": "stream",
     "text": [
      "\t Epoch 23. Accuracy: 0.684500 | Loss: 1.268492 | (ε = 8.07, δ = 8e-05) for α = 3.3\n"
     ]
    },
    {
     "name": "stderr",
     "output_type": "stream",
     "text": [
      "\n",
      "  5%|▌         | 1/20 [00:00<00:03,  4.82it/s]\u001b[A\n",
      " 15%|█▌        | 3/20 [00:00<00:02,  5.90it/s]\u001b[A\n",
      " 25%|██▌       | 5/20 [00:00<00:02,  6.97it/s]\u001b[A\n",
      " 30%|███       | 6/20 [00:00<00:01,  7.66it/s]\u001b[A\n",
      " 40%|████      | 8/20 [00:00<00:01,  8.52it/s]\u001b[A\n",
      " 50%|█████     | 10/20 [00:00<00:01,  9.36it/s]\u001b[A\n",
      " 60%|██████    | 12/20 [00:01<00:00, 10.05it/s]\u001b[A\n",
      " 70%|███████   | 14/20 [00:01<00:00, 10.17it/s]\u001b[A\n",
      " 80%|████████  | 16/20 [00:01<00:00, 10.48it/s]\u001b[A\n",
      " 90%|█████████ | 18/20 [00:01<00:00, 10.99it/s]\u001b[A\n",
      " 50%|█████     | 25/50 [00:50<00:49,  1.99s/it]\u001b[A\n",
      "  0%|          | 0/20 [00:00<?, ?it/s]\u001b[A"
     ]
    },
    {
     "name": "stdout",
     "output_type": "stream",
     "text": [
      "\t Epoch 24. Accuracy: 0.693063 | Loss: 1.245834 | (ε = 8.24, δ = 8e-05) for α = 3.3\n"
     ]
    },
    {
     "name": "stderr",
     "output_type": "stream",
     "text": [
      "\n",
      "  5%|▌         | 1/20 [00:00<00:04,  4.28it/s]\u001b[A\n",
      " 15%|█▌        | 3/20 [00:00<00:03,  5.32it/s]\u001b[A\n",
      " 25%|██▌       | 5/20 [00:00<00:02,  6.34it/s]\u001b[A\n",
      " 35%|███▌      | 7/20 [00:00<00:01,  7.29it/s]\u001b[A\n",
      " 45%|████▌     | 9/20 [00:00<00:01,  8.28it/s]\u001b[A\n",
      " 55%|█████▌    | 11/20 [00:01<00:00,  9.32it/s]\u001b[A\n",
      " 65%|██████▌   | 13/20 [00:01<00:00,  9.96it/s]\u001b[A\n",
      " 75%|███████▌  | 15/20 [00:01<00:00, 10.67it/s]\u001b[A\n",
      " 85%|████████▌ | 17/20 [00:01<00:00, 10.60it/s]\u001b[A\n",
      " 95%|█████████▌| 19/20 [00:01<00:00, 11.02it/s]\u001b[A\n",
      "100%|██████████| 20/20 [00:01<00:00, 10.79it/s]\u001b[A\n",
      "  0%|          | 0/3 [00:00<?, ?it/s]\u001b[A"
     ]
    },
    {
     "name": "stdout",
     "output_type": "stream",
     "text": [
      "\t Epoch 25. Accuracy: 0.698000 | Loss: 1.233152 | (ε = 8.40, δ = 8e-05) for α = 3.2\n"
     ]
    },
    {
     "name": "stderr",
     "output_type": "stream",
     "text": [
      "\n",
      " 33%|███▎      | 1/3 [00:00<00:00,  7.67it/s]\u001b[A\n",
      " 52%|█████▏    | 26/50 [00:52<00:49,  2.06s/it]A\n",
      "  0%|          | 0/20 [00:00<?, ?it/s]\u001b[A"
     ]
    },
    {
     "name": "stdout",
     "output_type": "stream",
     "text": [
      "\n",
      "----------------------------\n",
      "Test Accuracy: 0.691701 (ε = 8.40, δ = 8e-05) for α = 3.2\n",
      "----------------------------\n",
      "\n"
     ]
    },
    {
     "name": "stderr",
     "output_type": "stream",
     "text": [
      "\n",
      "  5%|▌         | 1/20 [00:00<00:04,  4.41it/s]\u001b[A\n",
      " 15%|█▌        | 3/20 [00:00<00:03,  5.42it/s]\u001b[A\n",
      " 25%|██▌       | 5/20 [00:00<00:02,  6.55it/s]\u001b[A\n",
      " 35%|███▌      | 7/20 [00:00<00:01,  7.41it/s]\u001b[A\n",
      " 45%|████▌     | 9/20 [00:00<00:01,  8.43it/s]\u001b[A\n",
      " 55%|█████▌    | 11/20 [00:01<00:00,  9.34it/s]\u001b[A\n",
      " 65%|██████▌   | 13/20 [00:01<00:00,  9.78it/s]\u001b[A\n",
      " 75%|███████▌  | 15/20 [00:01<00:00, 10.25it/s]\u001b[A\n",
      " 85%|████████▌ | 17/20 [00:01<00:00, 10.75it/s]\u001b[A\n",
      " 95%|█████████▌| 19/20 [00:01<00:00, 10.74it/s]\u001b[A\n",
      " 54%|█████▍    | 27/50 [00:54<00:46,  2.03s/it]\u001b[A\n",
      "  0%|          | 0/20 [00:00<?, ?it/s]\u001b[A"
     ]
    },
    {
     "name": "stdout",
     "output_type": "stream",
     "text": [
      "\t Epoch 26. Accuracy: 0.698812 | Loss: 1.231949 | (ε = 8.56, δ = 8e-05) for α = 3.2\n"
     ]
    },
    {
     "name": "stderr",
     "output_type": "stream",
     "text": [
      "\n",
      "  5%|▌         | 1/20 [00:00<00:04,  4.52it/s]\u001b[A\n",
      " 15%|█▌        | 3/20 [00:00<00:03,  5.58it/s]\u001b[A\n",
      " 20%|██        | 4/20 [00:00<00:02,  6.42it/s]\u001b[A\n",
      " 30%|███       | 6/20 [00:00<00:01,  7.55it/s]\u001b[A\n",
      " 40%|████      | 8/20 [00:00<00:01,  8.42it/s]\u001b[A\n",
      " 50%|█████     | 10/20 [00:00<00:01,  9.33it/s]\u001b[A\n",
      " 60%|██████    | 12/20 [00:01<00:00, 10.17it/s]\u001b[A\n",
      " 70%|███████   | 14/20 [00:01<00:00, 10.62it/s]\u001b[A\n",
      " 80%|████████  | 16/20 [00:01<00:00, 10.88it/s]\u001b[A\n",
      " 90%|█████████ | 18/20 [00:01<00:00, 11.16it/s]\u001b[A\n",
      " 56%|█████▌    | 28/50 [00:56<00:43,  2.00s/it]\u001b[A\n",
      "  0%|          | 0/20 [00:00<?, ?it/s]\u001b[A"
     ]
    },
    {
     "name": "stdout",
     "output_type": "stream",
     "text": [
      "\t Epoch 27. Accuracy: 0.701313 | Loss: 1.222030 | (ε = 8.72, δ = 8e-05) for α = 3.2\n"
     ]
    },
    {
     "name": "stderr",
     "output_type": "stream",
     "text": [
      "\n",
      "  5%|▌         | 1/20 [00:00<00:04,  4.50it/s]\u001b[A\n",
      " 15%|█▌        | 3/20 [00:00<00:03,  5.49it/s]\u001b[A\n",
      " 25%|██▌       | 5/20 [00:00<00:02,  6.57it/s]\u001b[A\n",
      " 35%|███▌      | 7/20 [00:00<00:01,  7.55it/s]\u001b[A\n",
      " 45%|████▌     | 9/20 [00:00<00:01,  8.24it/s]\u001b[A\n",
      " 55%|█████▌    | 11/20 [00:01<00:00,  9.23it/s]\u001b[A\n",
      " 65%|██████▌   | 13/20 [00:01<00:00,  9.82it/s]\u001b[A\n",
      " 75%|███████▌  | 15/20 [00:01<00:00, 10.29it/s]\u001b[A\n",
      " 85%|████████▌ | 17/20 [00:01<00:00, 10.78it/s]\u001b[A\n",
      " 95%|█████████▌| 19/20 [00:01<00:00, 11.24it/s]\u001b[A\n",
      " 58%|█████▊    | 29/50 [00:58<00:41,  1.99s/it]\u001b[A\n",
      "  0%|          | 0/20 [00:00<?, ?it/s]\u001b[A"
     ]
    },
    {
     "name": "stdout",
     "output_type": "stream",
     "text": [
      "\t Epoch 28. Accuracy: 0.707562 | Loss: 1.209349 | (ε = 8.87, δ = 8e-05) for α = 3.1\n"
     ]
    },
    {
     "name": "stderr",
     "output_type": "stream",
     "text": [
      "\n",
      "  5%|▌         | 1/20 [00:00<00:03,  4.89it/s]\u001b[A\n",
      " 15%|█▌        | 3/20 [00:00<00:02,  5.89it/s]\u001b[A\n",
      " 25%|██▌       | 5/20 [00:00<00:02,  6.97it/s]\u001b[A\n",
      " 35%|███▌      | 7/20 [00:00<00:01,  7.75it/s]\u001b[A\n",
      " 45%|████▌     | 9/20 [00:00<00:01,  8.70it/s]\u001b[A\n",
      " 55%|█████▌    | 11/20 [00:01<00:00,  9.39it/s]\u001b[A\n",
      " 65%|██████▌   | 13/20 [00:01<00:00, 10.15it/s]\u001b[A\n",
      " 75%|███████▌  | 15/20 [00:01<00:00, 10.53it/s]\u001b[A\n",
      " 85%|████████▌ | 17/20 [00:01<00:00, 10.74it/s]\u001b[A\n",
      " 95%|█████████▌| 19/20 [00:01<00:00, 10.75it/s]\u001b[A\n",
      " 60%|██████    | 30/50 [01:00<00:39,  1.98s/it]\u001b[A\n",
      "  0%|          | 0/20 [00:00<?, ?it/s]\u001b[A"
     ]
    },
    {
     "name": "stdout",
     "output_type": "stream",
     "text": [
      "\t Epoch 29. Accuracy: 0.708750 | Loss: 1.213605 | (ε = 9.02, δ = 8e-05) for α = 3.1\n"
     ]
    },
    {
     "name": "stderr",
     "output_type": "stream",
     "text": [
      "\n",
      "  5%|▌         | 1/20 [00:00<00:04,  4.61it/s]\u001b[A\n",
      " 15%|█▌        | 3/20 [00:00<00:03,  5.63it/s]\u001b[A\n",
      " 25%|██▌       | 5/20 [00:00<00:02,  6.62it/s]\u001b[A\n",
      " 35%|███▌      | 7/20 [00:00<00:01,  7.59it/s]\u001b[A\n",
      " 45%|████▌     | 9/20 [00:00<00:01,  8.65it/s]\u001b[A\n",
      " 50%|█████     | 10/20 [00:00<00:01,  9.01it/s]\u001b[A\n",
      " 60%|██████    | 12/20 [00:01<00:00,  9.77it/s]\u001b[A\n",
      " 70%|███████   | 14/20 [00:01<00:00, 10.24it/s]\u001b[A\n",
      " 80%|████████  | 16/20 [00:01<00:00, 10.53it/s]\u001b[A\n",
      " 90%|█████████ | 18/20 [00:01<00:00, 10.68it/s]\u001b[A\n",
      "100%|██████████| 20/20 [00:01<00:00, 11.16it/s]\u001b[A\n",
      "  0%|          | 0/3 [00:00<?, ?it/s]\u001b[A"
     ]
    },
    {
     "name": "stdout",
     "output_type": "stream",
     "text": [
      "\t Epoch 30. Accuracy: 0.713750 | Loss: 1.192162 | (ε = 9.17, δ = 8e-05) for α = 3.1\n"
     ]
    },
    {
     "name": "stderr",
     "output_type": "stream",
     "text": [
      "\n",
      " 33%|███▎      | 1/3 [00:00<00:00,  7.83it/s]\u001b[A\n",
      " 62%|██████▏   | 31/50 [01:02<00:39,  2.06s/it]A\n",
      "  0%|          | 0/20 [00:00<?, ?it/s]\u001b[A"
     ]
    },
    {
     "name": "stdout",
     "output_type": "stream",
     "text": [
      "\n",
      "----------------------------\n",
      "Test Accuracy: 0.707720 (ε = 9.17, δ = 8e-05) for α = 3.1\n",
      "----------------------------\n",
      "\n"
     ]
    },
    {
     "name": "stderr",
     "output_type": "stream",
     "text": [
      "\n",
      "  5%|▌         | 1/20 [00:00<00:04,  4.13it/s]\u001b[A\n",
      " 15%|█▌        | 3/20 [00:00<00:03,  5.12it/s]\u001b[A\n",
      " 25%|██▌       | 5/20 [00:00<00:02,  6.12it/s]\u001b[A\n",
      " 35%|███▌      | 7/20 [00:00<00:01,  7.19it/s]\u001b[A\n",
      " 45%|████▌     | 9/20 [00:00<00:01,  8.24it/s]\u001b[A\n",
      " 55%|█████▌    | 11/20 [00:01<00:00,  9.07it/s]\u001b[A\n",
      " 65%|██████▌   | 13/20 [00:01<00:00,  9.76it/s]\u001b[A\n",
      " 75%|███████▌  | 15/20 [00:01<00:00, 10.37it/s]\u001b[A\n",
      " 85%|████████▌ | 17/20 [00:01<00:00, 11.01it/s]\u001b[A\n",
      " 95%|█████████▌| 19/20 [00:01<00:00, 11.40it/s]\u001b[A\n",
      " 64%|██████▍   | 32/50 [01:04<00:36,  2.02s/it]\u001b[A\n",
      "  0%|          | 0/20 [00:00<?, ?it/s]\u001b[A"
     ]
    },
    {
     "name": "stdout",
     "output_type": "stream",
     "text": [
      "\t Epoch 31. Accuracy: 0.719562 | Loss: 1.166927 | (ε = 9.32, δ = 8e-05) for α = 3.1\n"
     ]
    },
    {
     "name": "stderr",
     "output_type": "stream",
     "text": [
      "\n",
      "  5%|▌         | 1/20 [00:00<00:04,  4.56it/s]\u001b[A\n",
      " 15%|█▌        | 3/20 [00:00<00:03,  5.54it/s]\u001b[A\n",
      " 25%|██▌       | 5/20 [00:00<00:02,  6.56it/s]\u001b[A\n",
      " 35%|███▌      | 7/20 [00:00<00:01,  7.54it/s]\u001b[A\n",
      " 45%|████▌     | 9/20 [00:00<00:01,  8.32it/s]\u001b[A\n",
      " 55%|█████▌    | 11/20 [00:01<00:00,  9.08it/s]\u001b[A\n",
      " 65%|██████▌   | 13/20 [00:01<00:00,  9.90it/s]\u001b[A\n",
      " 75%|███████▌  | 15/20 [00:01<00:00, 10.20it/s]\u001b[A\n",
      " 85%|████████▌ | 17/20 [00:01<00:00, 10.80it/s]\u001b[A\n",
      " 95%|█████████▌| 19/20 [00:01<00:00, 11.01it/s]\u001b[A\n",
      " 66%|██████▌   | 33/50 [01:06<00:34,  2.01s/it]\u001b[A\n",
      "  0%|          | 0/20 [00:00<?, ?it/s]\u001b[A"
     ]
    },
    {
     "name": "stdout",
     "output_type": "stream",
     "text": [
      "\t Epoch 32. Accuracy: 0.718938 | Loss: 1.181886 | (ε = 9.47, δ = 8e-05) for α = 3.0\n"
     ]
    },
    {
     "name": "stderr",
     "output_type": "stream",
     "text": [
      "\n",
      "  5%|▌         | 1/20 [00:00<00:04,  4.53it/s]\u001b[A\n",
      " 15%|█▌        | 3/20 [00:00<00:03,  5.53it/s]\u001b[A\n",
      " 25%|██▌       | 5/20 [00:00<00:02,  6.55it/s]\u001b[A\n",
      " 35%|███▌      | 7/20 [00:00<00:01,  7.49it/s]\u001b[A\n",
      " 45%|████▌     | 9/20 [00:00<00:01,  8.51it/s]\u001b[A\n",
      " 55%|█████▌    | 11/20 [00:01<00:01,  8.98it/s]\u001b[A\n",
      " 65%|██████▌   | 13/20 [00:01<00:00,  9.44it/s]\u001b[A\n",
      " 75%|███████▌  | 15/20 [00:01<00:00, 10.19it/s]\u001b[A\n",
      " 85%|████████▌ | 17/20 [00:01<00:00, 10.64it/s]\u001b[A\n",
      " 95%|█████████▌| 19/20 [00:01<00:00, 11.29it/s]\u001b[A\n",
      " 68%|██████▊   | 34/50 [01:08<00:31,  1.99s/it]\u001b[A\n",
      "  0%|          | 0/20 [00:00<?, ?it/s]\u001b[A"
     ]
    },
    {
     "name": "stdout",
     "output_type": "stream",
     "text": [
      "\t Epoch 33. Accuracy: 0.724938 | Loss: 1.163102 | (ε = 9.62, δ = 8e-05) for α = 3.0\n"
     ]
    },
    {
     "name": "stderr",
     "output_type": "stream",
     "text": [
      "\n",
      "  5%|▌         | 1/20 [00:00<00:05,  3.50it/s]\u001b[A\n",
      " 15%|█▌        | 3/20 [00:00<00:03,  4.42it/s]\u001b[A\n",
      " 25%|██▌       | 5/20 [00:00<00:02,  5.40it/s]\u001b[A\n",
      " 35%|███▌      | 7/20 [00:00<00:02,  6.40it/s]\u001b[A\n",
      " 45%|████▌     | 9/20 [00:00<00:01,  7.64it/s]\u001b[A\n",
      " 55%|█████▌    | 11/20 [00:01<00:01,  8.55it/s]\u001b[A\n",
      " 65%|██████▌   | 13/20 [00:01<00:00,  9.43it/s]\u001b[A\n",
      " 75%|███████▌  | 15/20 [00:01<00:00,  9.91it/s]\u001b[A\n",
      " 85%|████████▌ | 17/20 [00:01<00:00, 10.49it/s]\u001b[A\n",
      " 95%|█████████▌| 19/20 [00:01<00:00, 10.70it/s]\u001b[A\n",
      " 70%|███████   | 35/50 [01:10<00:29,  2.00s/it]\u001b[A\n",
      "  0%|          | 0/20 [00:00<?, ?it/s]\u001b[A"
     ]
    },
    {
     "name": "stdout",
     "output_type": "stream",
     "text": [
      "\t Epoch 34. Accuracy: 0.724000 | Loss: 1.162879 | (ε = 9.76, δ = 8e-05) for α = 3.0\n"
     ]
    },
    {
     "name": "stderr",
     "output_type": "stream",
     "text": [
      "\n",
      "  5%|▌         | 1/20 [00:00<00:04,  4.33it/s]\u001b[A\n",
      " 15%|█▌        | 3/20 [00:00<00:03,  5.28it/s]\u001b[A\n",
      " 25%|██▌       | 5/20 [00:00<00:02,  6.36it/s]\u001b[A\n",
      " 35%|███▌      | 7/20 [00:00<00:01,  7.34it/s]\u001b[A\n",
      " 45%|████▌     | 9/20 [00:00<00:01,  8.33it/s]\u001b[A\n",
      " 55%|█████▌    | 11/20 [00:01<00:00,  9.30it/s]\u001b[A\n",
      " 65%|██████▌   | 13/20 [00:01<00:00,  9.94it/s]\u001b[A\n",
      " 75%|███████▌  | 15/20 [00:01<00:00, 10.80it/s]\u001b[A\n",
      " 85%|████████▌ | 17/20 [00:01<00:00, 11.09it/s]\u001b[A\n",
      " 95%|█████████▌| 19/20 [00:01<00:00, 11.38it/s]\u001b[A\n",
      "100%|██████████| 20/20 [00:01<00:00, 10.77it/s]\u001b[A\n",
      "  0%|          | 0/3 [00:00<?, ?it/s]\u001b[A"
     ]
    },
    {
     "name": "stdout",
     "output_type": "stream",
     "text": [
      "\t Epoch 35. Accuracy: 0.726375 | Loss: 1.164932 | (ε = 9.90, δ = 8e-05) for α = 3.0\n"
     ]
    },
    {
     "name": "stderr",
     "output_type": "stream",
     "text": [
      "\n",
      " 33%|███▎      | 1/3 [00:00<00:00,  7.81it/s]\u001b[A\n",
      " 72%|███████▏  | 36/50 [01:13<00:28,  2.06s/it]A\n",
      "  0%|          | 0/20 [00:00<?, ?it/s]\u001b[A"
     ]
    },
    {
     "name": "stdout",
     "output_type": "stream",
     "text": [
      "\n",
      "----------------------------\n",
      "Test Accuracy: 0.702265 (ε = 9.90, δ = 8e-05) for α = 3.0\n",
      "----------------------------\n",
      "\n"
     ]
    },
    {
     "name": "stderr",
     "output_type": "stream",
     "text": [
      "\n",
      "  5%|▌         | 1/20 [00:00<00:03,  4.76it/s]\u001b[A\n",
      " 15%|█▌        | 3/20 [00:00<00:02,  5.80it/s]\u001b[A\n",
      " 25%|██▌       | 5/20 [00:00<00:02,  6.84it/s]\u001b[A\n",
      " 35%|███▌      | 7/20 [00:00<00:01,  7.83it/s]\u001b[A\n",
      " 45%|████▌     | 9/20 [00:00<00:01,  8.57it/s]\u001b[A\n",
      " 55%|█████▌    | 11/20 [00:01<00:00,  9.46it/s]\u001b[A\n",
      " 65%|██████▌   | 13/20 [00:01<00:00, 10.07it/s]\u001b[A\n",
      " 75%|███████▌  | 15/20 [00:01<00:00, 10.54it/s]\u001b[A\n",
      " 85%|████████▌ | 17/20 [00:01<00:00, 10.67it/s]\u001b[A\n",
      " 95%|█████████▌| 19/20 [00:01<00:00, 11.15it/s]\u001b[A\n",
      " 74%|███████▍  | 37/50 [01:14<00:26,  2.03s/it]\u001b[A\n",
      "  0%|          | 0/20 [00:00<?, ?it/s]\u001b[A"
     ]
    },
    {
     "name": "stdout",
     "output_type": "stream",
     "text": [
      "\t Epoch 36. Accuracy: 0.721313 | Loss: 1.173956 | (ε = 10.05, δ = 8e-05) for α = 3.0\n"
     ]
    },
    {
     "name": "stderr",
     "output_type": "stream",
     "text": [
      "\n",
      "  5%|▌         | 1/20 [00:00<00:04,  4.55it/s]\u001b[A\n",
      " 10%|█         | 2/20 [00:00<00:03,  5.42it/s]\u001b[A\n",
      " 20%|██        | 4/20 [00:00<00:02,  6.52it/s]\u001b[A\n",
      " 30%|███       | 6/20 [00:00<00:01,  7.50it/s]\u001b[A\n",
      " 40%|████      | 8/20 [00:00<00:01,  8.57it/s]\u001b[A\n",
      " 50%|█████     | 10/20 [00:00<00:01,  9.18it/s]\u001b[A\n",
      " 60%|██████    | 12/20 [00:01<00:00,  9.90it/s]\u001b[A\n",
      " 70%|███████   | 14/20 [00:01<00:00, 10.55it/s]\u001b[A\n",
      " 80%|████████  | 16/20 [00:01<00:00, 11.14it/s]\u001b[A\n",
      " 90%|█████████ | 18/20 [00:01<00:00, 11.43it/s]\u001b[A\n",
      " 76%|███████▌  | 38/50 [01:16<00:23,  2.00s/it]\u001b[A\n",
      "  0%|          | 0/20 [00:00<?, ?it/s]\u001b[A"
     ]
    },
    {
     "name": "stdout",
     "output_type": "stream",
     "text": [
      "\t Epoch 37. Accuracy: 0.735437 | Loss: 1.122051 | (ε = 10.19, δ = 8e-05) for α = 2.9\n"
     ]
    },
    {
     "name": "stderr",
     "output_type": "stream",
     "text": [
      "\n",
      "  5%|▌         | 1/20 [00:00<00:04,  4.31it/s]\u001b[A\n",
      " 10%|█         | 2/20 [00:00<00:03,  5.18it/s]\u001b[A\n",
      " 20%|██        | 4/20 [00:00<00:02,  6.27it/s]\u001b[A\n",
      " 30%|███       | 6/20 [00:00<00:01,  7.27it/s]\u001b[A\n",
      " 40%|████      | 8/20 [00:00<00:01,  8.17it/s]\u001b[A\n",
      " 50%|█████     | 10/20 [00:00<00:01,  9.17it/s]\u001b[A\n",
      " 60%|██████    | 12/20 [00:01<00:00,  9.77it/s]\u001b[A\n",
      " 70%|███████   | 14/20 [00:01<00:00, 10.31it/s]\u001b[A\n",
      " 80%|████████  | 16/20 [00:01<00:00, 10.51it/s]\u001b[A\n",
      " 90%|█████████ | 18/20 [00:01<00:00, 11.11it/s]\u001b[A\n",
      " 78%|███████▊  | 39/50 [01:18<00:21,  1.99s/it]\u001b[A\n",
      "  0%|          | 0/20 [00:00<?, ?it/s]\u001b[A"
     ]
    },
    {
     "name": "stdout",
     "output_type": "stream",
     "text": [
      "\t Epoch 38. Accuracy: 0.736687 | Loss: 1.125166 | (ε = 10.32, δ = 8e-05) for α = 2.9\n"
     ]
    },
    {
     "name": "stderr",
     "output_type": "stream",
     "text": [
      "\n",
      "  5%|▌         | 1/20 [00:00<00:04,  4.42it/s]\u001b[A\n",
      " 15%|█▌        | 3/20 [00:00<00:03,  5.37it/s]\u001b[A\n",
      " 25%|██▌       | 5/20 [00:00<00:02,  6.47it/s]\u001b[A\n",
      " 35%|███▌      | 7/20 [00:00<00:01,  7.45it/s]\u001b[A\n",
      " 45%|████▌     | 9/20 [00:00<00:01,  8.43it/s]\u001b[A\n",
      " 55%|█████▌    | 11/20 [00:01<00:00,  9.33it/s]\u001b[A\n",
      " 65%|██████▌   | 13/20 [00:01<00:00,  9.77it/s]\u001b[A\n",
      " 75%|███████▌  | 15/20 [00:01<00:00, 10.18it/s]\u001b[A\n",
      " 85%|████████▌ | 17/20 [00:01<00:00, 10.92it/s]\u001b[A\n",
      " 95%|█████████▌| 19/20 [00:01<00:00, 10.95it/s]\u001b[A\n",
      " 80%|████████  | 40/50 [01:20<00:19,  1.98s/it]\u001b[A\n",
      "  0%|          | 0/20 [00:00<?, ?it/s]\u001b[A"
     ]
    },
    {
     "name": "stdout",
     "output_type": "stream",
     "text": [
      "\t Epoch 39. Accuracy: 0.736500 | Loss: 1.140181 | (ε = 10.46, δ = 8e-05) for α = 2.9\n"
     ]
    },
    {
     "name": "stderr",
     "output_type": "stream",
     "text": [
      "\n",
      "  5%|▌         | 1/20 [00:00<00:03,  4.85it/s]\u001b[A\n",
      " 15%|█▌        | 3/20 [00:00<00:02,  5.84it/s]\u001b[A\n",
      " 25%|██▌       | 5/20 [00:00<00:02,  6.94it/s]\u001b[A\n",
      " 35%|███▌      | 7/20 [00:00<00:01,  7.80it/s]\u001b[A\n",
      " 45%|████▌     | 9/20 [00:00<00:01,  8.69it/s]\u001b[A\n",
      " 55%|█████▌    | 11/20 [00:01<00:00,  9.39it/s]\u001b[A\n",
      " 65%|██████▌   | 13/20 [00:01<00:00,  9.95it/s]\u001b[A\n",
      " 75%|███████▌  | 15/20 [00:01<00:00, 10.31it/s]\u001b[A\n",
      " 85%|████████▌ | 17/20 [00:01<00:00, 10.88it/s]\u001b[A\n",
      " 95%|█████████▌| 19/20 [00:01<00:00, 10.84it/s]\u001b[A\n",
      "100%|██████████| 20/20 [00:01<00:00, 10.71it/s]\u001b[A\n",
      "  0%|          | 0/3 [00:00<?, ?it/s]\u001b[A"
     ]
    },
    {
     "name": "stdout",
     "output_type": "stream",
     "text": [
      "\t Epoch 40. Accuracy: 0.734750 | Loss: 1.132542 | (ε = 10.60, δ = 8e-05) for α = 2.9\n"
     ]
    },
    {
     "name": "stderr",
     "output_type": "stream",
     "text": [
      "\n",
      " 33%|███▎      | 1/3 [00:00<00:00,  7.79it/s]\u001b[A\n",
      " 82%|████████▏ | 41/50 [01:23<00:18,  2.05s/it]A\n",
      "  0%|          | 0/20 [00:00<?, ?it/s]\u001b[A"
     ]
    },
    {
     "name": "stdout",
     "output_type": "stream",
     "text": [
      "\n",
      "----------------------------\n",
      "Test Accuracy: 0.715653 (ε = 10.60, δ = 8e-05) for α = 2.9\n",
      "----------------------------\n",
      "\n"
     ]
    },
    {
     "name": "stderr",
     "output_type": "stream",
     "text": [
      "\n",
      "  5%|▌         | 1/20 [00:00<00:04,  4.73it/s]\u001b[A\n",
      " 15%|█▌        | 3/20 [00:00<00:02,  5.75it/s]\u001b[A\n",
      " 25%|██▌       | 5/20 [00:00<00:02,  6.70it/s]\u001b[A\n",
      " 35%|███▌      | 7/20 [00:00<00:01,  7.74it/s]\u001b[A\n",
      " 45%|████▌     | 9/20 [00:00<00:01,  8.59it/s]\u001b[A\n",
      " 55%|█████▌    | 11/20 [00:01<00:00,  9.53it/s]\u001b[A\n",
      " 65%|██████▌   | 13/20 [00:01<00:00,  9.99it/s]\u001b[A\n",
      " 75%|███████▌  | 15/20 [00:01<00:00, 10.56it/s]\u001b[A\n",
      " 85%|████████▌ | 17/20 [00:01<00:00, 10.77it/s]\u001b[A\n",
      " 95%|█████████▌| 19/20 [00:01<00:00, 10.99it/s]\u001b[A\n",
      " 84%|████████▍ | 42/50 [01:25<00:16,  2.03s/it]\u001b[A\n",
      "  0%|          | 0/20 [00:00<?, ?it/s]\u001b[A"
     ]
    },
    {
     "name": "stdout",
     "output_type": "stream",
     "text": [
      "\t Epoch 41. Accuracy: 0.734875 | Loss: 1.125319 | (ε = 10.74, δ = 8e-05) for α = 2.9\n"
     ]
    },
    {
     "name": "stderr",
     "output_type": "stream",
     "text": [
      "\n",
      "  5%|▌         | 1/20 [00:00<00:04,  4.53it/s]\u001b[A\n",
      " 15%|█▌        | 3/20 [00:00<00:03,  5.50it/s]\u001b[A\n",
      " 25%|██▌       | 5/20 [00:00<00:02,  6.44it/s]\u001b[A\n",
      " 35%|███▌      | 7/20 [00:00<00:01,  7.43it/s]\u001b[A\n",
      " 45%|████▌     | 9/20 [00:00<00:01,  8.32it/s]\u001b[A\n",
      " 55%|█████▌    | 11/20 [00:01<00:00,  9.14it/s]\u001b[A\n",
      " 65%|██████▌   | 13/20 [00:01<00:00,  9.57it/s]\u001b[A\n",
      " 75%|███████▌  | 15/20 [00:01<00:00, 10.36it/s]\u001b[A\n",
      " 85%|████████▌ | 17/20 [00:01<00:00, 10.69it/s]\u001b[A\n",
      " 95%|█████████▌| 19/20 [00:01<00:00, 10.78it/s]\u001b[A\n",
      " 86%|████████▌ | 43/50 [01:27<00:14,  2.02s/it]\u001b[A\n",
      "  0%|          | 0/20 [00:00<?, ?it/s]\u001b[A"
     ]
    },
    {
     "name": "stdout",
     "output_type": "stream",
     "text": [
      "\t Epoch 42. Accuracy: 0.739062 | Loss: 1.114325 | (ε = 10.87, δ = 8e-05) for α = 2.8\n"
     ]
    },
    {
     "name": "stderr",
     "output_type": "stream",
     "text": [
      "\n",
      "  5%|▌         | 1/20 [00:00<00:04,  4.60it/s]\u001b[A\n",
      " 15%|█▌        | 3/20 [00:00<00:03,  5.63it/s]\u001b[A\n",
      " 25%|██▌       | 5/20 [00:00<00:02,  6.76it/s]\u001b[A\n",
      " 35%|███▌      | 7/20 [00:00<00:01,  7.76it/s]\u001b[A\n",
      " 45%|████▌     | 9/20 [00:00<00:01,  8.71it/s]\u001b[A\n",
      " 55%|█████▌    | 11/20 [00:01<00:00,  9.40it/s]\u001b[A\n",
      " 65%|██████▌   | 13/20 [00:01<00:00,  9.95it/s]\u001b[A\n",
      " 75%|███████▌  | 15/20 [00:01<00:00, 10.18it/s]\u001b[A\n",
      " 85%|████████▌ | 17/20 [00:01<00:00, 10.78it/s]\u001b[A\n",
      " 95%|█████████▌| 19/20 [00:01<00:00, 10.85it/s]\u001b[A\n",
      " 88%|████████▊ | 44/50 [01:28<00:12,  2.00s/it]\u001b[A\n",
      "  0%|          | 0/20 [00:00<?, ?it/s]\u001b[A"
     ]
    },
    {
     "name": "stdout",
     "output_type": "stream",
     "text": [
      "\t Epoch 43. Accuracy: 0.740750 | Loss: 1.111604 | (ε = 11.00, δ = 8e-05) for α = 2.8\n"
     ]
    },
    {
     "name": "stderr",
     "output_type": "stream",
     "text": [
      "\n",
      "  5%|▌         | 1/20 [00:00<00:04,  4.26it/s]\u001b[A\n",
      " 15%|█▌        | 3/20 [00:00<00:03,  5.16it/s]\u001b[A\n",
      " 25%|██▌       | 5/20 [00:00<00:02,  6.18it/s]\u001b[A\n",
      " 35%|███▌      | 7/20 [00:00<00:01,  7.19it/s]\u001b[A\n",
      " 45%|████▌     | 9/20 [00:00<00:01,  8.23it/s]\u001b[A\n",
      " 55%|█████▌    | 11/20 [00:01<00:00,  9.23it/s]\u001b[A\n",
      " 65%|██████▌   | 13/20 [00:01<00:00,  9.88it/s]\u001b[A\n",
      " 75%|███████▌  | 15/20 [00:01<00:00, 10.47it/s]\u001b[A\n",
      " 85%|████████▌ | 17/20 [00:01<00:00, 10.76it/s]\u001b[A\n",
      " 95%|█████████▌| 19/20 [00:01<00:00, 11.14it/s]\u001b[A\n",
      " 90%|█████████ | 45/50 [01:30<00:09,  1.99s/it]\u001b[A\n",
      "  0%|          | 0/20 [00:00<?, ?it/s]\u001b[A"
     ]
    },
    {
     "name": "stdout",
     "output_type": "stream",
     "text": [
      "\t Epoch 44. Accuracy: 0.740125 | Loss: 1.099650 | (ε = 11.13, δ = 8e-05) for α = 2.8\n"
     ]
    },
    {
     "name": "stderr",
     "output_type": "stream",
     "text": [
      "\n",
      "  5%|▌         | 1/20 [00:00<00:04,  4.49it/s]\u001b[A\n",
      " 15%|█▌        | 3/20 [00:00<00:03,  5.54it/s]\u001b[A\n",
      " 25%|██▌       | 5/20 [00:00<00:02,  6.53it/s]\u001b[A\n",
      " 35%|███▌      | 7/20 [00:00<00:01,  7.63it/s]\u001b[A\n",
      " 45%|████▌     | 9/20 [00:00<00:01,  8.49it/s]\u001b[A\n",
      " 55%|█████▌    | 11/20 [00:01<00:00,  9.17it/s]\u001b[A\n",
      " 65%|██████▌   | 13/20 [00:01<00:00,  9.97it/s]\u001b[A\n",
      " 75%|███████▌  | 15/20 [00:01<00:00, 10.19it/s]\u001b[A\n",
      " 85%|████████▌ | 17/20 [00:01<00:00, 10.63it/s]\u001b[A\n",
      " 95%|█████████▌| 19/20 [00:01<00:00, 11.05it/s]\u001b[A\n",
      "100%|██████████| 20/20 [00:01<00:00, 10.70it/s]\u001b[A\n",
      "  0%|          | 0/3 [00:00<?, ?it/s]\u001b[A"
     ]
    },
    {
     "name": "stdout",
     "output_type": "stream",
     "text": [
      "\t Epoch 45. Accuracy: 0.750812 | Loss: 1.062885 | (ε = 11.26, δ = 8e-05) for α = 2.8\n"
     ]
    },
    {
     "name": "stderr",
     "output_type": "stream",
     "text": [
      "\n",
      " 33%|███▎      | 1/3 [00:00<00:00,  7.77it/s]\u001b[A\n",
      " 92%|█████████▏| 46/50 [01:33<00:08,  2.06s/it]A\n",
      "  0%|          | 0/20 [00:00<?, ?it/s]\u001b[A"
     ]
    },
    {
     "name": "stdout",
     "output_type": "stream",
     "text": [
      "\n",
      "----------------------------\n",
      "Test Accuracy: 0.739057 (ε = 11.26, δ = 8e-05) for α = 2.8\n",
      "----------------------------\n",
      "\n"
     ]
    },
    {
     "name": "stderr",
     "output_type": "stream",
     "text": [
      "\n",
      "  5%|▌         | 1/20 [00:00<00:04,  4.36it/s]\u001b[A\n",
      " 10%|█         | 2/20 [00:00<00:03,  5.23it/s]\u001b[A\n",
      " 20%|██        | 4/20 [00:00<00:02,  6.27it/s]\u001b[A\n",
      " 30%|███       | 6/20 [00:00<00:01,  7.30it/s]\u001b[A\n",
      " 40%|████      | 8/20 [00:00<00:01,  8.34it/s]\u001b[A\n",
      " 50%|█████     | 10/20 [00:01<00:01,  9.10it/s]\u001b[A\n",
      " 60%|██████    | 12/20 [00:01<00:00,  9.60it/s]\u001b[A\n",
      " 70%|███████   | 14/20 [00:01<00:00, 10.25it/s]\u001b[A\n",
      " 80%|████████  | 16/20 [00:01<00:00, 10.83it/s]\u001b[A\n",
      " 90%|█████████ | 18/20 [00:01<00:00, 11.12it/s]\u001b[A\n",
      " 94%|█████████▍| 47/50 [01:35<00:06,  2.03s/it]\u001b[A\n",
      "  0%|          | 0/20 [00:00<?, ?it/s]\u001b[A"
     ]
    },
    {
     "name": "stdout",
     "output_type": "stream",
     "text": [
      "\t Epoch 46. Accuracy: 0.749750 | Loss: 1.076617 | (ε = 11.40, δ = 8e-05) for α = 2.8\n"
     ]
    },
    {
     "name": "stderr",
     "output_type": "stream",
     "text": [
      "\n",
      "  5%|▌         | 1/20 [00:00<00:04,  4.51it/s]\u001b[A\n",
      " 15%|█▌        | 3/20 [00:00<00:03,  5.53it/s]\u001b[A\n",
      " 25%|██▌       | 5/20 [00:00<00:02,  6.55it/s]\u001b[A\n",
      " 35%|███▌      | 7/20 [00:00<00:01,  7.52it/s]\u001b[A\n",
      " 45%|████▌     | 9/20 [00:00<00:01,  8.36it/s]\u001b[A\n",
      " 55%|█████▌    | 11/20 [00:01<00:00,  9.12it/s]\u001b[A\n",
      " 65%|██████▌   | 13/20 [00:01<00:00,  9.73it/s]\u001b[A\n",
      " 75%|███████▌  | 15/20 [00:01<00:00, 10.42it/s]\u001b[A\n",
      " 85%|████████▌ | 17/20 [00:01<00:00, 10.67it/s]\u001b[A\n",
      " 95%|█████████▌| 19/20 [00:01<00:00, 11.08it/s]\u001b[A\n",
      " 96%|█████████▌| 48/50 [01:37<00:04,  2.01s/it]\u001b[A\n",
      "  0%|          | 0/20 [00:00<?, ?it/s]\u001b[A"
     ]
    },
    {
     "name": "stdout",
     "output_type": "stream",
     "text": [
      "\t Epoch 47. Accuracy: 0.749437 | Loss: 1.091281 | (ε = 11.53, δ = 8e-05) for α = 2.8\n"
     ]
    },
    {
     "name": "stderr",
     "output_type": "stream",
     "text": [
      "\n",
      "  5%|▌         | 1/20 [00:00<00:04,  4.59it/s]\u001b[A\n",
      " 15%|█▌        | 3/20 [00:00<00:03,  5.63it/s]\u001b[A\n",
      " 25%|██▌       | 5/20 [00:00<00:02,  6.56it/s]\u001b[A\n",
      " 35%|███▌      | 7/20 [00:00<00:01,  7.69it/s]\u001b[A\n",
      " 45%|████▌     | 9/20 [00:00<00:01,  8.54it/s]\u001b[A\n",
      " 55%|█████▌    | 11/20 [00:01<00:00,  9.43it/s]\u001b[A\n",
      " 65%|██████▌   | 13/20 [00:01<00:00,  9.85it/s]\u001b[A\n",
      " 75%|███████▌  | 15/20 [00:01<00:00, 10.30it/s]\u001b[A\n",
      " 85%|████████▌ | 17/20 [00:01<00:00, 10.95it/s]\u001b[A\n",
      " 95%|█████████▌| 19/20 [00:01<00:00, 10.89it/s]\u001b[A\n",
      " 98%|█████████▊| 49/50 [01:39<00:01,  2.00s/it]\u001b[A\n",
      "  0%|          | 0/20 [00:00<?, ?it/s]\u001b[A"
     ]
    },
    {
     "name": "stdout",
     "output_type": "stream",
     "text": [
      "\t Epoch 48. Accuracy: 0.751625 | Loss: 1.067713 | (ε = 11.66, δ = 8e-05) for α = 2.8\n"
     ]
    },
    {
     "name": "stderr",
     "output_type": "stream",
     "text": [
      "\n",
      "  5%|▌         | 1/20 [00:00<00:04,  4.47it/s]\u001b[A\n",
      " 15%|█▌        | 3/20 [00:00<00:03,  5.45it/s]\u001b[A\n",
      " 25%|██▌       | 5/20 [00:00<00:02,  6.55it/s]\u001b[A\n",
      " 35%|███▌      | 7/20 [00:00<00:01,  7.64it/s]\u001b[A\n",
      " 45%|████▌     | 9/20 [00:00<00:01,  8.50it/s]\u001b[A\n",
      " 55%|█████▌    | 11/20 [00:01<00:00,  9.46it/s]\u001b[A\n",
      " 65%|██████▌   | 13/20 [00:01<00:00, 10.20it/s]\u001b[A\n",
      " 75%|███████▌  | 15/20 [00:01<00:00, 10.43it/s]\u001b[A\n",
      " 85%|████████▌ | 17/20 [00:01<00:00, 11.13it/s]\u001b[A\n",
      " 95%|█████████▌| 19/20 [00:01<00:00, 10.86it/s]\u001b[A\n",
      "100%|██████████| 50/50 [01:40<00:00,  1.98s/it]\u001b[A\n",
      "  0%|          | 0/3 [00:00<?, ?it/s]"
     ]
    },
    {
     "name": "stdout",
     "output_type": "stream",
     "text": [
      "\t Epoch 49. Accuracy: 0.752250 | Loss: 1.067498 | (ε = 11.78, δ = 8e-05) for α = 2.7\n"
     ]
    },
    {
     "name": "stderr",
     "output_type": "stream",
     "text": [
      "100%|██████████| 3/3 [00:00<00:00, 17.67it/s]\n"
     ]
    },
    {
     "name": "stdout",
     "output_type": "stream",
     "text": [
      "\n",
      "----------------------------\n",
      "Test Accuracy: 0.732004 (ε = 11.78, δ = 8e-05) for α = 2.7\n",
      "----------------------------\n",
      "\n"
     ]
    }
   ],
   "source": [
    "from tqdm import tqdm\n",
    "\n",
    "print(\"Train stats: \\n\")\n",
    "for epoch in tqdm(range(epochs)):\n",
    "    train(model, criterion, optimizer, train_loader, epoch, device=device)\n",
    "    if test_every:\n",
    "        if epoch % test_every == 0:\n",
    "            test(model, test_loader, privacy_engine, device=device)\n",
    "\n",
    "test(model, test_loader, privacy_engine, device=device)"
   ]
  },
  {
   "cell_type": "markdown",
   "metadata": {},
   "source": [
    "The differentially-private name classification model obtains an accuracy of 73.2 with an epsilon of 11.78. This shows that we can achieve a good accuracy on this task, with minimal loss of privacy."
   ]
  },
  {
   "cell_type": "markdown",
   "metadata": {},
   "source": [
    "## Training the name classifier without privacy"
   ]
  },
  {
   "cell_type": "markdown",
   "metadata": {},
   "source": [
    " We also run a comparison with a non-private model to see if the performance obtained with privacy is comparable to it. To do this, we keep the parameters such as learning rate and batch size the same, and only define a different instance of the model along with a separate optimizer."
   ]
  },
  {
   "cell_type": "code",
   "execution_count": 17,
   "metadata": {},
   "outputs": [],
   "source": [
    "model_nodp = CharNNClassifier(\n",
    "    embedding_size,\n",
    "    hidden_size,\n",
    "    len(ds.labels),\n",
    "    n_lstm_layers,\n",
    "    bidirectional_lstm,\n",
    ").to(device)\n",
    "\n",
    "\n",
    "optimizer_nodp = torch.optim.SGD(model_nodp.parameters(), lr=0.5)"
   ]
  },
  {
   "cell_type": "code",
   "execution_count": 18,
   "metadata": {},
   "outputs": [
    {
     "name": "stderr",
     "output_type": "stream",
     "text": [
      "  0%|          | 0/50 [00:00<?, ?it/s]\n",
      "  0%|          | 0/20 [00:00<?, ?it/s]\u001b[A\n",
      "  5%|▌         | 1/20 [00:00<00:03,  6.18it/s]\u001b[A\n",
      " 40%|████      | 8/20 [00:00<00:01,  8.48it/s]\u001b[A\n",
      " 80%|████████  | 16/20 [00:00<00:00, 11.51it/s]\u001b[A\n",
      "100%|██████████| 20/20 [00:00<00:00, 42.35it/s]\u001b[A\n",
      "  0%|          | 0/3 [00:00<?, ?it/s]\u001b[A"
     ]
    },
    {
     "name": "stdout",
     "output_type": "stream",
     "text": [
      "\t Epoch 0. Accuracy: 0.446188 | Loss: 1.975067\n"
     ]
    },
    {
     "name": "stderr",
     "output_type": "stream",
     "text": [
      "\n",
      " 33%|███▎      | 1/3 [00:00<00:00,  7.49it/s]\u001b[A\n",
      "  2%|▏         | 1/50 [00:00<00:31,  1.53it/s][A\n",
      "  0%|          | 0/20 [00:00<?, ?it/s]\u001b[A"
     ]
    },
    {
     "name": "stdout",
     "output_type": "stream",
     "text": [
      "\n",
      "----------------------------\n",
      "Test Accuracy: 0.470559\n",
      "----------------------------\n",
      "\n"
     ]
    },
    {
     "name": "stderr",
     "output_type": "stream",
     "text": [
      "\n",
      "  5%|▌         | 1/20 [00:00<00:02,  6.38it/s]\u001b[A\n",
      " 40%|████      | 8/20 [00:00<00:01,  8.73it/s]\u001b[A\n",
      " 75%|███████▌  | 15/20 [00:00<00:00, 11.82it/s]\u001b[A\n",
      "  4%|▍         | 2/50 [00:01<00:28,  1.67it/s]]\u001b[A\n",
      "  0%|          | 0/20 [00:00<?, ?it/s]\u001b[A"
     ]
    },
    {
     "name": "stdout",
     "output_type": "stream",
     "text": [
      "\t Epoch 1. Accuracy: 0.468625 | Loss: 1.851975\n"
     ]
    },
    {
     "name": "stderr",
     "output_type": "stream",
     "text": [
      "\n",
      "  5%|▌         | 1/20 [00:00<00:02,  6.47it/s]\u001b[A\n",
      " 40%|████      | 8/20 [00:00<00:01,  8.85it/s]\u001b[A\n",
      " 75%|███████▌  | 15/20 [00:00<00:00, 11.96it/s]\u001b[A\n",
      "  6%|▌         | 3/50 [00:01<00:26,  1.78it/s]]\u001b[A\n",
      "  0%|          | 0/20 [00:00<?, ?it/s]\u001b[A"
     ]
    },
    {
     "name": "stdout",
     "output_type": "stream",
     "text": [
      "\t Epoch 2. Accuracy: 0.468438 | Loss: 1.851132\n"
     ]
    },
    {
     "name": "stderr",
     "output_type": "stream",
     "text": [
      "\n",
      "  5%|▌         | 1/20 [00:00<00:02,  6.41it/s]\u001b[A\n",
      " 40%|████      | 8/20 [00:00<00:01,  8.79it/s]\u001b[A\n",
      " 75%|███████▌  | 15/20 [00:00<00:00, 11.90it/s]\u001b[A\n",
      "  8%|▊         | 4/50 [00:02<00:24,  1.87it/s]]\u001b[A\n",
      "  0%|          | 0/20 [00:00<?, ?it/s]\u001b[A"
     ]
    },
    {
     "name": "stdout",
     "output_type": "stream",
     "text": [
      "\t Epoch 3. Accuracy: 0.468750 | Loss: 1.860505\n"
     ]
    },
    {
     "name": "stderr",
     "output_type": "stream",
     "text": [
      "\n",
      "  5%|▌         | 1/20 [00:00<00:02,  6.46it/s]\u001b[A\n",
      " 40%|████      | 8/20 [00:00<00:01,  8.85it/s]\u001b[A\n",
      " 75%|███████▌  | 15/20 [00:00<00:00, 11.95it/s]\u001b[A\n",
      " 10%|█         | 5/50 [00:02<00:23,  1.93it/s]]\u001b[A\n",
      "  0%|          | 0/20 [00:00<?, ?it/s]\u001b[A"
     ]
    },
    {
     "name": "stdout",
     "output_type": "stream",
     "text": [
      "\t Epoch 4. Accuracy: 0.469000 | Loss: 1.852566\n"
     ]
    },
    {
     "name": "stderr",
     "output_type": "stream",
     "text": [
      "\n",
      "  5%|▌         | 1/20 [00:00<00:02,  6.36it/s]\u001b[A\n",
      " 40%|████      | 8/20 [00:00<00:01,  8.73it/s]\u001b[A\n",
      " 75%|███████▌  | 15/20 [00:00<00:00, 11.80it/s]\u001b[A\n",
      "100%|██████████| 20/20 [00:00<00:00, 42.44it/s]\u001b[A\n",
      "  0%|          | 0/3 [00:00<?, ?it/s]\u001b[A"
     ]
    },
    {
     "name": "stdout",
     "output_type": "stream",
     "text": [
      "\t Epoch 5. Accuracy: 0.468500 | Loss: 1.851430\n"
     ]
    },
    {
     "name": "stderr",
     "output_type": "stream",
     "text": [
      "\n",
      " 33%|███▎      | 1/3 [00:00<00:00,  7.44it/s]\u001b[A\n",
      " 12%|█▏        | 6/50 [00:03<00:24,  1.79it/s][A\n",
      "  0%|          | 0/20 [00:00<?, ?it/s]\u001b[A"
     ]
    },
    {
     "name": "stdout",
     "output_type": "stream",
     "text": [
      "\n",
      "----------------------------\n",
      "Test Accuracy: 0.470559\n",
      "----------------------------\n",
      "\n"
     ]
    },
    {
     "name": "stderr",
     "output_type": "stream",
     "text": [
      "\n",
      "  5%|▌         | 1/20 [00:00<00:03,  6.27it/s]\u001b[A\n",
      " 40%|████      | 8/20 [00:00<00:01,  8.59it/s]\u001b[A\n",
      " 75%|███████▌  | 15/20 [00:00<00:00, 11.65it/s]\u001b[A\n",
      " 14%|█▍        | 7/50 [00:03<00:22,  1.87it/s]]\u001b[A\n",
      "  0%|          | 0/20 [00:00<?, ?it/s]\u001b[A"
     ]
    },
    {
     "name": "stdout",
     "output_type": "stream",
     "text": [
      "\t Epoch 6. Accuracy: 0.467375 | Loss: 1.847835\n"
     ]
    },
    {
     "name": "stderr",
     "output_type": "stream",
     "text": [
      "\n",
      "  5%|▌         | 1/20 [00:00<00:03,  6.31it/s]\u001b[A\n",
      " 40%|████      | 8/20 [00:00<00:01,  8.65it/s]\u001b[A\n",
      " 75%|███████▌  | 15/20 [00:00<00:00, 11.70it/s]\u001b[A\n",
      " 16%|█▌        | 8/50 [00:04<00:21,  1.94it/s]]\u001b[A\n",
      "  0%|          | 0/20 [00:00<?, ?it/s]\u001b[A"
     ]
    },
    {
     "name": "stdout",
     "output_type": "stream",
     "text": [
      "\t Epoch 7. Accuracy: 0.498937 | Loss: 1.702268\n"
     ]
    },
    {
     "name": "stderr",
     "output_type": "stream",
     "text": [
      "\n",
      "  5%|▌         | 1/20 [00:00<00:02,  6.44it/s]\u001b[A\n",
      " 40%|████      | 8/20 [00:00<00:01,  8.82it/s]\u001b[A\n",
      " 75%|███████▌  | 15/20 [00:00<00:00, 11.95it/s]\u001b[A\n",
      " 18%|█▊        | 9/50 [00:04<00:20,  1.99it/s]]\u001b[A\n",
      "  0%|          | 0/20 [00:00<?, ?it/s]\u001b[A"
     ]
    },
    {
     "name": "stdout",
     "output_type": "stream",
     "text": [
      "\t Epoch 8. Accuracy: 0.540625 | Loss: 1.550873\n"
     ]
    },
    {
     "name": "stderr",
     "output_type": "stream",
     "text": [
      "\n",
      "  5%|▌         | 1/20 [00:00<00:02,  6.44it/s]\u001b[A\n",
      " 40%|████      | 8/20 [00:00<00:01,  8.83it/s]\u001b[A\n",
      " 75%|███████▌  | 15/20 [00:00<00:00, 11.96it/s]\u001b[A\n",
      " 20%|██        | 10/50 [00:05<00:19,  2.03it/s]\u001b[A\n",
      "  0%|          | 0/20 [00:00<?, ?it/s]\u001b[A"
     ]
    },
    {
     "name": "stdout",
     "output_type": "stream",
     "text": [
      "\t Epoch 9. Accuracy: 0.551125 | Loss: 1.507487\n"
     ]
    },
    {
     "name": "stderr",
     "output_type": "stream",
     "text": [
      "\n",
      "  5%|▌         | 1/20 [00:00<00:02,  6.66it/s]\u001b[A\n",
      " 40%|████      | 8/20 [00:00<00:01,  9.09it/s]\u001b[A\n",
      " 75%|███████▌  | 15/20 [00:00<00:00, 12.28it/s]\u001b[A\n",
      "100%|██████████| 20/20 [00:00<00:00, 42.89it/s]\u001b[A\n",
      "  0%|          | 0/3 [00:00<?, ?it/s]\u001b[A"
     ]
    },
    {
     "name": "stdout",
     "output_type": "stream",
     "text": [
      "\t Epoch 10. Accuracy: 0.556312 | Loss: 1.488815\n"
     ]
    },
    {
     "name": "stderr",
     "output_type": "stream",
     "text": [
      "\n",
      " 33%|███▎      | 1/3 [00:00<00:00,  7.47it/s]\u001b[A\n",
      " 22%|██▏       | 11/50 [00:05<00:21,  1.85it/s]A\n",
      "  0%|          | 0/20 [00:00<?, ?it/s]\u001b[A"
     ]
    },
    {
     "name": "stdout",
     "output_type": "stream",
     "text": [
      "\n",
      "----------------------------\n",
      "Test Accuracy: 0.558185\n",
      "----------------------------\n",
      "\n"
     ]
    },
    {
     "name": "stderr",
     "output_type": "stream",
     "text": [
      "\n",
      "  5%|▌         | 1/20 [00:00<00:02,  6.63it/s]\u001b[A\n",
      " 40%|████      | 8/20 [00:00<00:01,  9.06it/s]\u001b[A\n",
      " 80%|████████  | 16/20 [00:00<00:00, 12.27it/s]\u001b[A\n",
      " 24%|██▍       | 12/50 [00:06<00:19,  1.93it/s]\u001b[A\n",
      "  0%|          | 0/20 [00:00<?, ?it/s]\u001b[A"
     ]
    },
    {
     "name": "stdout",
     "output_type": "stream",
     "text": [
      "\t Epoch 11. Accuracy: 0.560312 | Loss: 1.477035\n"
     ]
    },
    {
     "name": "stderr",
     "output_type": "stream",
     "text": [
      "\n",
      "  5%|▌         | 1/20 [00:00<00:02,  6.39it/s]\u001b[A\n",
      " 40%|████      | 8/20 [00:00<00:01,  8.74it/s]\u001b[A\n",
      " 75%|███████▌  | 15/20 [00:00<00:00, 11.84it/s]\u001b[A\n",
      " 26%|██▌       | 13/50 [00:06<00:18,  1.98it/s]\u001b[A\n",
      "  0%|          | 0/20 [00:00<?, ?it/s]\u001b[A"
     ]
    },
    {
     "name": "stdout",
     "output_type": "stream",
     "text": [
      "\t Epoch 12. Accuracy: 0.563562 | Loss: 1.456275\n"
     ]
    },
    {
     "name": "stderr",
     "output_type": "stream",
     "text": [
      "\n",
      "  5%|▌         | 1/20 [00:00<00:03,  6.29it/s]\u001b[A\n",
      " 40%|████      | 8/20 [00:00<00:01,  8.62it/s]\u001b[A\n",
      " 75%|███████▌  | 15/20 [00:00<00:00, 11.67it/s]\u001b[A\n",
      " 28%|██▊       | 14/50 [00:07<00:17,  2.01it/s]\u001b[A\n",
      "  0%|          | 0/20 [00:00<?, ?it/s]\u001b[A"
     ]
    },
    {
     "name": "stdout",
     "output_type": "stream",
     "text": [
      "\t Epoch 13. Accuracy: 0.561875 | Loss: 1.466037\n"
     ]
    },
    {
     "name": "stderr",
     "output_type": "stream",
     "text": [
      "\n",
      "  5%|▌         | 1/20 [00:00<00:02,  6.39it/s]\u001b[A\n",
      " 40%|████      | 8/20 [00:00<00:01,  8.76it/s]\u001b[A\n",
      " 75%|███████▌  | 15/20 [00:00<00:00, 11.86it/s]\u001b[A\n",
      " 30%|███       | 15/50 [00:07<00:17,  2.04it/s]\u001b[A\n",
      "  0%|          | 0/20 [00:00<?, ?it/s]\u001b[A"
     ]
    },
    {
     "name": "stdout",
     "output_type": "stream",
     "text": [
      "\t Epoch 14. Accuracy: 0.569187 | Loss: 1.442874\n"
     ]
    },
    {
     "name": "stderr",
     "output_type": "stream",
     "text": [
      "\n",
      "  5%|▌         | 1/20 [00:00<00:03,  6.29it/s]\u001b[A\n",
      " 40%|████      | 8/20 [00:00<00:01,  8.62it/s]\u001b[A\n",
      " 75%|███████▌  | 15/20 [00:00<00:00, 11.69it/s]\u001b[A\n",
      "100%|██████████| 20/20 [00:00<00:00, 42.38it/s]\u001b[A\n",
      "  0%|          | 0/3 [00:00<?, ?it/s]\u001b[A"
     ]
    },
    {
     "name": "stdout",
     "output_type": "stream",
     "text": [
      "\t Epoch 15. Accuracy: 0.570063 | Loss: 1.443760\n"
     ]
    },
    {
     "name": "stderr",
     "output_type": "stream",
     "text": [
      "\n",
      " 33%|███▎      | 1/3 [00:00<00:00,  7.45it/s]\u001b[A\n",
      " 32%|███▏      | 16/50 [00:08<00:18,  1.86it/s]A\n",
      "  0%|          | 0/20 [00:00<?, ?it/s]\u001b[A"
     ]
    },
    {
     "name": "stdout",
     "output_type": "stream",
     "text": [
      "\n",
      "----------------------------\n",
      "Test Accuracy: 0.571025\n",
      "----------------------------\n",
      "\n"
     ]
    },
    {
     "name": "stderr",
     "output_type": "stream",
     "text": [
      "\n",
      "  5%|▌         | 1/20 [00:00<00:03,  6.32it/s]\u001b[A\n",
      " 40%|████      | 8/20 [00:00<00:01,  8.65it/s]\u001b[A\n",
      " 80%|████████  | 16/20 [00:00<00:00, 11.75it/s]\u001b[A\n",
      " 34%|███▍      | 17/50 [00:08<00:17,  1.93it/s]\u001b[A\n",
      "  0%|          | 0/20 [00:00<?, ?it/s]\u001b[A"
     ]
    },
    {
     "name": "stdout",
     "output_type": "stream",
     "text": [
      "\t Epoch 16. Accuracy: 0.581313 | Loss: 1.416902\n"
     ]
    },
    {
     "name": "stderr",
     "output_type": "stream",
     "text": [
      "\n",
      "  5%|▌         | 1/20 [00:00<00:02,  6.39it/s]\u001b[A\n",
      " 40%|████      | 8/20 [00:00<00:01,  8.76it/s]\u001b[A\n",
      " 80%|████████  | 16/20 [00:00<00:00, 11.88it/s]\u001b[A\n",
      " 36%|███▌      | 18/50 [00:09<00:16,  1.98it/s]\u001b[A\n",
      "  0%|          | 0/20 [00:00<?, ?it/s]\u001b[A"
     ]
    },
    {
     "name": "stdout",
     "output_type": "stream",
     "text": [
      "\t Epoch 17. Accuracy: 0.613812 | Loss: 1.352785\n"
     ]
    },
    {
     "name": "stderr",
     "output_type": "stream",
     "text": [
      "\n",
      "  5%|▌         | 1/20 [00:00<00:02,  6.35it/s]\u001b[A\n",
      " 40%|████      | 8/20 [00:00<00:01,  8.70it/s]\u001b[A\n",
      " 75%|███████▌  | 15/20 [00:00<00:00, 11.78it/s]\u001b[A\n",
      " 38%|███▊      | 19/50 [00:09<00:15,  2.02it/s]\u001b[A\n",
      "  0%|          | 0/20 [00:00<?, ?it/s]\u001b[A"
     ]
    },
    {
     "name": "stdout",
     "output_type": "stream",
     "text": [
      "\t Epoch 18. Accuracy: 0.623250 | Loss: 1.322635\n"
     ]
    },
    {
     "name": "stderr",
     "output_type": "stream",
     "text": [
      "\n",
      "  5%|▌         | 1/20 [00:00<00:02,  6.46it/s]\u001b[A\n",
      " 40%|████      | 8/20 [00:00<00:01,  8.84it/s]\u001b[A\n",
      " 75%|███████▌  | 15/20 [00:00<00:00, 11.95it/s]\u001b[A\n",
      " 40%|████      | 20/50 [00:10<00:14,  2.05it/s]\u001b[A\n",
      "  0%|          | 0/20 [00:00<?, ?it/s]\u001b[A"
     ]
    },
    {
     "name": "stdout",
     "output_type": "stream",
     "text": [
      "\t Epoch 19. Accuracy: 0.636062 | Loss: 1.275303\n"
     ]
    },
    {
     "name": "stderr",
     "output_type": "stream",
     "text": [
      "\n",
      "  5%|▌         | 1/20 [00:00<00:02,  6.44it/s]\u001b[A\n",
      " 40%|████      | 8/20 [00:00<00:01,  8.82it/s]\u001b[A\n",
      " 75%|███████▌  | 15/20 [00:00<00:00, 11.90it/s]\u001b[A\n",
      "100%|██████████| 20/20 [00:00<00:00, 41.91it/s]\u001b[A\n",
      "  0%|          | 0/3 [00:00<?, ?it/s]\u001b[A"
     ]
    },
    {
     "name": "stdout",
     "output_type": "stream",
     "text": [
      "\t Epoch 20. Accuracy: 0.643125 | Loss: 1.246226\n"
     ]
    },
    {
     "name": "stderr",
     "output_type": "stream",
     "text": [
      "\n",
      " 33%|███▎      | 1/3 [00:00<00:00,  7.43it/s]\u001b[A\n",
      " 42%|████▏     | 21/50 [00:10<00:15,  1.85it/s]A\n",
      "  0%|          | 0/20 [00:00<?, ?it/s]\u001b[A"
     ]
    },
    {
     "name": "stdout",
     "output_type": "stream",
     "text": [
      "\n",
      "----------------------------\n",
      "Test Accuracy: 0.655041\n",
      "----------------------------\n",
      "\n"
     ]
    },
    {
     "name": "stderr",
     "output_type": "stream",
     "text": [
      "\n",
      "  5%|▌         | 1/20 [00:00<00:03,  6.30it/s]\u001b[A\n",
      " 40%|████      | 8/20 [00:00<00:01,  8.65it/s]\u001b[A\n",
      " 75%|███████▌  | 15/20 [00:00<00:00, 11.72it/s]\u001b[A\n",
      " 44%|████▍     | 22/50 [00:11<00:14,  1.92it/s]\u001b[A\n",
      "  0%|          | 0/20 [00:00<?, ?it/s]\u001b[A"
     ]
    },
    {
     "name": "stdout",
     "output_type": "stream",
     "text": [
      "\t Epoch 21. Accuracy: 0.655000 | Loss: 1.214294\n"
     ]
    },
    {
     "name": "stderr",
     "output_type": "stream",
     "text": [
      "\n",
      "  5%|▌         | 1/20 [00:00<00:02,  6.40it/s]\u001b[A\n",
      " 40%|████      | 8/20 [00:00<00:01,  8.76it/s]\u001b[A\n",
      " 75%|███████▌  | 15/20 [00:00<00:00, 11.86it/s]\u001b[A\n",
      " 46%|████▌     | 23/50 [00:11<00:13,  1.97it/s]\u001b[A\n",
      "  0%|          | 0/20 [00:00<?, ?it/s]\u001b[A"
     ]
    },
    {
     "name": "stdout",
     "output_type": "stream",
     "text": [
      "\t Epoch 22. Accuracy: 0.658250 | Loss: 1.188098\n"
     ]
    },
    {
     "name": "stderr",
     "output_type": "stream",
     "text": [
      "\n",
      "  5%|▌         | 1/20 [00:00<00:03,  6.25it/s]\u001b[A\n",
      " 40%|████      | 8/20 [00:00<00:01,  8.58it/s]\u001b[A\n",
      " 75%|███████▌  | 15/20 [00:00<00:00, 11.61it/s]\u001b[A\n",
      " 48%|████▊     | 24/50 [00:12<00:12,  2.00it/s]\u001b[A\n",
      "  0%|          | 0/20 [00:00<?, ?it/s]\u001b[A"
     ]
    },
    {
     "name": "stdout",
     "output_type": "stream",
     "text": [
      "\t Epoch 23. Accuracy: 0.667500 | Loss: 1.159147\n"
     ]
    },
    {
     "name": "stderr",
     "output_type": "stream",
     "text": [
      "\n",
      "  5%|▌         | 1/20 [00:00<00:02,  6.54it/s]\u001b[A\n",
      " 40%|████      | 8/20 [00:00<00:01,  8.94it/s]\u001b[A\n",
      " 75%|███████▌  | 15/20 [00:00<00:00, 12.06it/s]\u001b[A\n",
      " 50%|█████     | 25/50 [00:12<00:12,  2.04it/s]\u001b[A\n",
      "  0%|          | 0/20 [00:00<?, ?it/s]\u001b[A"
     ]
    },
    {
     "name": "stdout",
     "output_type": "stream",
     "text": [
      "\t Epoch 24. Accuracy: 0.679438 | Loss: 1.136272\n"
     ]
    },
    {
     "name": "stderr",
     "output_type": "stream",
     "text": [
      "\n",
      "  5%|▌         | 1/20 [00:00<00:02,  6.60it/s]\u001b[A\n",
      " 35%|███▌      | 7/20 [00:00<00:01,  9.00it/s]\u001b[A\n",
      " 70%|███████   | 14/20 [00:00<00:00, 12.16it/s]\u001b[A\n",
      "100%|██████████| 20/20 [00:00<00:00, 42.78it/s]\u001b[A\n",
      "  0%|          | 0/3 [00:00<?, ?it/s]\u001b[A"
     ]
    },
    {
     "name": "stdout",
     "output_type": "stream",
     "text": [
      "\t Epoch 25. Accuracy: 0.687438 | Loss: 1.102815\n"
     ]
    },
    {
     "name": "stderr",
     "output_type": "stream",
     "text": [
      "\n",
      " 33%|███▎      | 1/3 [00:00<00:00,  7.45it/s]\u001b[A\n",
      " 52%|█████▏    | 26/50 [00:13<00:12,  1.86it/s]A\n",
      "  0%|          | 0/20 [00:00<?, ?it/s]\u001b[A"
     ]
    },
    {
     "name": "stdout",
     "output_type": "stream",
     "text": [
      "\n",
      "----------------------------\n",
      "Test Accuracy: 0.695590\n",
      "----------------------------\n",
      "\n"
     ]
    },
    {
     "name": "stderr",
     "output_type": "stream",
     "text": [
      "\n",
      "  5%|▌         | 1/20 [00:00<00:03,  6.33it/s]\u001b[A\n",
      " 40%|████      | 8/20 [00:00<00:01,  8.67it/s]\u001b[A\n",
      " 75%|███████▌  | 15/20 [00:00<00:00, 11.74it/s]\u001b[A\n",
      " 54%|█████▍    | 27/50 [00:13<00:11,  1.92it/s]\u001b[A\n",
      "  0%|          | 0/20 [00:00<?, ?it/s]\u001b[A"
     ]
    },
    {
     "name": "stdout",
     "output_type": "stream",
     "text": [
      "\t Epoch 26. Accuracy: 0.686562 | Loss: 1.093785\n"
     ]
    },
    {
     "name": "stderr",
     "output_type": "stream",
     "text": [
      "\n",
      "  5%|▌         | 1/20 [00:00<00:02,  6.42it/s]\u001b[A\n",
      " 40%|████      | 8/20 [00:00<00:01,  8.81it/s]\u001b[A\n",
      " 75%|███████▌  | 15/20 [00:00<00:00, 11.91it/s]\u001b[A\n",
      " 56%|█████▌    | 28/50 [00:14<00:11,  1.98it/s]\u001b[A\n",
      "  0%|          | 0/20 [00:00<?, ?it/s]\u001b[A"
     ]
    },
    {
     "name": "stdout",
     "output_type": "stream",
     "text": [
      "\t Epoch 27. Accuracy: 0.688063 | Loss: 1.083488\n"
     ]
    },
    {
     "name": "stderr",
     "output_type": "stream",
     "text": [
      "\n",
      "  5%|▌         | 1/20 [00:00<00:02,  6.45it/s]\u001b[A\n",
      " 40%|████      | 8/20 [00:00<00:01,  8.84it/s]\u001b[A\n",
      " 75%|███████▌  | 15/20 [00:00<00:00, 11.95it/s]\u001b[A\n",
      " 58%|█████▊    | 29/50 [00:14<00:10,  2.02it/s]\u001b[A\n",
      "  0%|          | 0/20 [00:00<?, ?it/s]\u001b[A"
     ]
    },
    {
     "name": "stdout",
     "output_type": "stream",
     "text": [
      "\t Epoch 28. Accuracy: 0.697000 | Loss: 1.054640\n"
     ]
    },
    {
     "name": "stderr",
     "output_type": "stream",
     "text": [
      "\n",
      "  5%|▌         | 1/20 [00:00<00:03,  6.33it/s]\u001b[A\n",
      " 40%|████      | 8/20 [00:00<00:01,  8.68it/s]\u001b[A\n",
      " 75%|███████▌  | 15/20 [00:00<00:00, 11.76it/s]\u001b[A\n",
      " 60%|██████    | 30/50 [00:15<00:09,  2.05it/s]\u001b[A\n",
      "  0%|          | 0/20 [00:00<?, ?it/s]\u001b[A"
     ]
    },
    {
     "name": "stdout",
     "output_type": "stream",
     "text": [
      "\t Epoch 29. Accuracy: 0.702250 | Loss: 1.028159\n"
     ]
    },
    {
     "name": "stderr",
     "output_type": "stream",
     "text": [
      "\n",
      "  5%|▌         | 1/20 [00:00<00:03,  6.30it/s]\u001b[A\n",
      " 40%|████      | 8/20 [00:00<00:01,  8.63it/s]\u001b[A\n",
      " 75%|███████▌  | 15/20 [00:00<00:00, 11.70it/s]\u001b[A\n",
      "100%|██████████| 20/20 [00:00<00:00, 42.43it/s]\u001b[A\n",
      "  0%|          | 0/3 [00:00<?, ?it/s]\u001b[A"
     ]
    },
    {
     "name": "stdout",
     "output_type": "stream",
     "text": [
      "\t Epoch 30. Accuracy: 0.706187 | Loss: 1.015101\n"
     ]
    },
    {
     "name": "stderr",
     "output_type": "stream",
     "text": [
      "\n",
      " 33%|███▎      | 1/3 [00:00<00:00,  7.56it/s]\u001b[A\n",
      " 62%|██████▏   | 31/50 [00:15<00:10,  1.86it/s]A\n",
      "  0%|          | 0/20 [00:00<?, ?it/s]\u001b[A"
     ]
    },
    {
     "name": "stdout",
     "output_type": "stream",
     "text": [
      "\n",
      "----------------------------\n",
      "Test Accuracy: 0.682311\n",
      "----------------------------\n",
      "\n"
     ]
    },
    {
     "name": "stderr",
     "output_type": "stream",
     "text": [
      "\n",
      "  5%|▌         | 1/20 [00:00<00:03,  6.31it/s]\u001b[A\n",
      " 40%|████      | 8/20 [00:00<00:01,  8.65it/s]\u001b[A\n",
      " 75%|███████▌  | 15/20 [00:00<00:00, 11.71it/s]\u001b[A\n",
      " 64%|██████▍   | 32/50 [00:16<00:09,  1.93it/s]\u001b[A\n",
      "  0%|          | 0/20 [00:00<?, ?it/s]\u001b[A"
     ]
    },
    {
     "name": "stdout",
     "output_type": "stream",
     "text": [
      "\t Epoch 31. Accuracy: 0.701688 | Loss: 1.024621\n"
     ]
    },
    {
     "name": "stderr",
     "output_type": "stream",
     "text": [
      "\n",
      "  5%|▌         | 1/20 [00:00<00:03,  6.29it/s]\u001b[A\n",
      " 40%|████      | 8/20 [00:00<00:01,  8.62it/s]\u001b[A\n",
      " 75%|███████▌  | 15/20 [00:00<00:00, 11.70it/s]\u001b[A\n",
      " 66%|██████▌   | 33/50 [00:16<00:08,  1.98it/s]\u001b[A\n",
      "  0%|          | 0/20 [00:00<?, ?it/s]\u001b[A"
     ]
    },
    {
     "name": "stdout",
     "output_type": "stream",
     "text": [
      "\t Epoch 32. Accuracy: 0.707500 | Loss: 1.002122\n"
     ]
    },
    {
     "name": "stderr",
     "output_type": "stream",
     "text": [
      "\n",
      "  5%|▌         | 1/20 [00:00<00:02,  6.40it/s]\u001b[A\n",
      " 40%|████      | 8/20 [00:00<00:01,  8.78it/s]\u001b[A\n",
      " 75%|███████▌  | 15/20 [00:00<00:00, 11.87it/s]\u001b[A\n",
      " 68%|██████▊   | 34/50 [00:17<00:07,  2.02it/s]\u001b[A\n",
      "  0%|          | 0/20 [00:00<?, ?it/s]\u001b[A"
     ]
    },
    {
     "name": "stdout",
     "output_type": "stream",
     "text": [
      "\t Epoch 33. Accuracy: 0.716375 | Loss: 0.976570\n"
     ]
    },
    {
     "name": "stderr",
     "output_type": "stream",
     "text": [
      "\n",
      "  5%|▌         | 1/20 [00:00<00:02,  6.41it/s]\u001b[A\n",
      " 40%|████      | 8/20 [00:00<00:01,  8.79it/s]\u001b[A\n",
      " 75%|███████▌  | 15/20 [00:00<00:00, 11.91it/s]\u001b[A\n",
      " 70%|███████   | 35/50 [00:17<00:07,  2.05it/s]\u001b[A\n",
      "  0%|          | 0/20 [00:00<?, ?it/s]\u001b[A"
     ]
    },
    {
     "name": "stdout",
     "output_type": "stream",
     "text": [
      "\t Epoch 34. Accuracy: 0.719875 | Loss: 0.966798\n"
     ]
    },
    {
     "name": "stderr",
     "output_type": "stream",
     "text": [
      "\n",
      "  5%|▌         | 1/20 [00:00<00:02,  6.42it/s]\u001b[A\n",
      " 40%|████      | 8/20 [00:00<00:01,  8.79it/s]\u001b[A\n",
      " 75%|███████▌  | 15/20 [00:00<00:00, 11.91it/s]\u001b[A\n",
      "100%|██████████| 20/20 [00:00<00:00, 42.66it/s]\u001b[A\n",
      "  0%|          | 0/3 [00:00<?, ?it/s]\u001b[A"
     ]
    },
    {
     "name": "stdout",
     "output_type": "stream",
     "text": [
      "\t Epoch 35. Accuracy: 0.720125 | Loss: 0.964287\n"
     ]
    },
    {
     "name": "stderr",
     "output_type": "stream",
     "text": [
      "\n",
      " 33%|███▎      | 1/3 [00:00<00:00,  7.52it/s]\u001b[A\n",
      " 72%|███████▏  | 36/50 [00:18<00:07,  1.87it/s]A\n",
      "  0%|          | 0/20 [00:00<?, ?it/s]\u001b[A"
     ]
    },
    {
     "name": "stdout",
     "output_type": "stream",
     "text": [
      "\n",
      "----------------------------\n",
      "Test Accuracy: 0.695451\n",
      "----------------------------\n",
      "\n"
     ]
    },
    {
     "name": "stderr",
     "output_type": "stream",
     "text": [
      "\n",
      "  5%|▌         | 1/20 [00:00<00:03,  6.28it/s]\u001b[A\n",
      " 40%|████      | 8/20 [00:00<00:01,  8.60it/s]\u001b[A\n",
      " 75%|███████▌  | 15/20 [00:00<00:00, 11.66it/s]\u001b[A\n",
      " 74%|███████▍  | 37/50 [00:18<00:06,  1.93it/s]\u001b[A\n",
      "  0%|          | 0/20 [00:00<?, ?it/s]\u001b[A"
     ]
    },
    {
     "name": "stdout",
     "output_type": "stream",
     "text": [
      "\t Epoch 36. Accuracy: 0.719375 | Loss: 0.954905\n"
     ]
    },
    {
     "name": "stderr",
     "output_type": "stream",
     "text": [
      "\n",
      "  5%|▌         | 1/20 [00:00<00:03,  6.28it/s]\u001b[A\n",
      " 40%|████      | 8/20 [00:00<00:01,  8.61it/s]\u001b[A\n",
      " 75%|███████▌  | 15/20 [00:00<00:00, 11.65it/s]\u001b[A\n",
      " 76%|███████▌  | 38/50 [00:19<00:06,  1.98it/s]\u001b[A\n",
      "  0%|          | 0/20 [00:00<?, ?it/s]\u001b[A"
     ]
    },
    {
     "name": "stdout",
     "output_type": "stream",
     "text": [
      "\t Epoch 37. Accuracy: 0.728688 | Loss: 0.932315\n"
     ]
    },
    {
     "name": "stderr",
     "output_type": "stream",
     "text": [
      "\n",
      "  5%|▌         | 1/20 [00:00<00:02,  6.35it/s]\u001b[A\n",
      " 40%|████      | 8/20 [00:00<00:01,  8.70it/s]\u001b[A\n",
      " 80%|████████  | 16/20 [00:00<00:00, 11.82it/s]\u001b[A\n",
      " 78%|███████▊  | 39/50 [00:19<00:05,  2.02it/s]\u001b[A\n",
      "  0%|          | 0/20 [00:00<?, ?it/s]\u001b[A"
     ]
    },
    {
     "name": "stdout",
     "output_type": "stream",
     "text": [
      "\t Epoch 38. Accuracy: 0.731250 | Loss: 0.928614\n"
     ]
    },
    {
     "name": "stderr",
     "output_type": "stream",
     "text": [
      "\n",
      "  5%|▌         | 1/20 [00:00<00:02,  6.35it/s]\u001b[A\n",
      " 40%|████      | 8/20 [00:00<00:01,  8.71it/s]\u001b[A\n",
      " 75%|███████▌  | 15/20 [00:00<00:00, 11.81it/s]\u001b[A\n",
      " 80%|████████  | 40/50 [00:20<00:04,  2.05it/s]\u001b[A\n",
      "  0%|          | 0/20 [00:00<?, ?it/s]\u001b[A"
     ]
    },
    {
     "name": "stdout",
     "output_type": "stream",
     "text": [
      "\t Epoch 39. Accuracy: 0.741875 | Loss: 0.894388\n"
     ]
    },
    {
     "name": "stderr",
     "output_type": "stream",
     "text": [
      "\n",
      "  5%|▌         | 1/20 [00:00<00:03,  6.22it/s]\u001b[A\n",
      " 40%|████      | 8/20 [00:00<00:01,  8.54it/s]\u001b[A\n",
      " 75%|███████▌  | 15/20 [00:00<00:00, 11.58it/s]\u001b[A\n",
      "100%|██████████| 20/20 [00:00<00:00, 42.41it/s]\u001b[A\n",
      "  0%|          | 0/3 [00:00<?, ?it/s]\u001b[A"
     ]
    },
    {
     "name": "stdout",
     "output_type": "stream",
     "text": [
      "\t Epoch 40. Accuracy: 0.737875 | Loss: 0.901502\n"
     ]
    },
    {
     "name": "stderr",
     "output_type": "stream",
     "text": [
      "\n",
      " 33%|███▎      | 1/3 [00:00<00:00,  7.46it/s]\u001b[A\n",
      " 82%|████████▏ | 41/50 [00:21<00:04,  1.86it/s]A\n",
      "  0%|          | 0/20 [00:00<?, ?it/s]\u001b[A"
     ]
    },
    {
     "name": "stdout",
     "output_type": "stream",
     "text": [
      "\n",
      "----------------------------\n",
      "Test Accuracy: 0.744666\n",
      "----------------------------\n",
      "\n"
     ]
    },
    {
     "name": "stderr",
     "output_type": "stream",
     "text": [
      "\n",
      "  5%|▌         | 1/20 [00:00<00:03,  6.32it/s]\u001b[A\n",
      " 40%|████      | 8/20 [00:00<00:01,  8.67it/s]\u001b[A\n",
      " 75%|███████▌  | 15/20 [00:00<00:00, 11.72it/s]\u001b[A\n",
      " 84%|████████▍ | 42/50 [00:21<00:04,  1.93it/s]\u001b[A\n",
      "  0%|          | 0/20 [00:00<?, ?it/s]\u001b[A"
     ]
    },
    {
     "name": "stdout",
     "output_type": "stream",
     "text": [
      "\t Epoch 41. Accuracy: 0.747875 | Loss: 0.869028\n"
     ]
    },
    {
     "name": "stderr",
     "output_type": "stream",
     "text": [
      "\n",
      "  5%|▌         | 1/20 [00:00<00:02,  6.41it/s]\u001b[A\n",
      " 40%|████      | 8/20 [00:00<00:01,  8.79it/s]\u001b[A\n",
      " 75%|███████▌  | 15/20 [00:00<00:00, 11.88it/s]\u001b[A\n",
      " 86%|████████▌ | 43/50 [00:21<00:03,  1.97it/s]\u001b[A\n",
      "  0%|          | 0/20 [00:00<?, ?it/s]\u001b[A"
     ]
    },
    {
     "name": "stdout",
     "output_type": "stream",
     "text": [
      "\t Epoch 42. Accuracy: 0.741750 | Loss: 0.880296\n"
     ]
    },
    {
     "name": "stderr",
     "output_type": "stream",
     "text": [
      "\n",
      "  5%|▌         | 1/20 [00:00<00:03,  6.29it/s]\u001b[A\n",
      " 40%|████      | 8/20 [00:00<00:01,  8.62it/s]\u001b[A\n",
      " 75%|███████▌  | 15/20 [00:00<00:00, 11.68it/s]\u001b[A\n",
      " 88%|████████▊ | 44/50 [00:22<00:02,  2.01it/s]\u001b[A\n",
      "  0%|          | 0/20 [00:00<?, ?it/s]\u001b[A"
     ]
    },
    {
     "name": "stdout",
     "output_type": "stream",
     "text": [
      "\t Epoch 43. Accuracy: 0.740563 | Loss: 0.890370\n"
     ]
    },
    {
     "name": "stderr",
     "output_type": "stream",
     "text": [
      "\n",
      "  5%|▌         | 1/20 [00:00<00:02,  6.36it/s]\u001b[A\n",
      " 40%|████      | 8/20 [00:00<00:01,  8.70it/s]\u001b[A\n",
      " 75%|███████▌  | 15/20 [00:00<00:00, 11.81it/s]\u001b[A\n",
      " 90%|█████████ | 45/50 [00:22<00:02,  2.04it/s]\u001b[A\n",
      "  0%|          | 0/20 [00:00<?, ?it/s]\u001b[A"
     ]
    },
    {
     "name": "stdout",
     "output_type": "stream",
     "text": [
      "\t Epoch 44. Accuracy: 0.751375 | Loss: 0.849146\n"
     ]
    },
    {
     "name": "stderr",
     "output_type": "stream",
     "text": [
      "\n",
      "  5%|▌         | 1/20 [00:00<00:03,  6.28it/s]\u001b[A\n",
      " 40%|████      | 8/20 [00:00<00:01,  8.63it/s]\u001b[A\n",
      " 75%|███████▌  | 15/20 [00:00<00:00, 11.66it/s]\u001b[A\n",
      "100%|██████████| 20/20 [00:00<00:00, 42.44it/s]\u001b[A\n",
      "  0%|          | 0/3 [00:00<?, ?it/s]\u001b[A"
     ]
    },
    {
     "name": "stdout",
     "output_type": "stream",
     "text": [
      "\t Epoch 45. Accuracy: 0.750125 | Loss: 0.851319\n"
     ]
    },
    {
     "name": "stderr",
     "output_type": "stream",
     "text": [
      "\n",
      " 33%|███▎      | 1/3 [00:00<00:00,  7.44it/s]\u001b[A\n",
      " 92%|█████████▏| 46/50 [00:23<00:02,  1.86it/s]A\n",
      "  0%|          | 0/20 [00:00<?, ?it/s]\u001b[A"
     ]
    },
    {
     "name": "stdout",
     "output_type": "stream",
     "text": [
      "\n",
      "----------------------------\n",
      "Test Accuracy: 0.757715\n",
      "----------------------------\n",
      "\n"
     ]
    },
    {
     "name": "stderr",
     "output_type": "stream",
     "text": [
      "\n",
      "  5%|▌         | 1/20 [00:00<00:03,  6.27it/s]\u001b[A\n",
      " 40%|████      | 8/20 [00:00<00:01,  8.60it/s]\u001b[A\n",
      " 75%|███████▌  | 15/20 [00:00<00:00, 11.66it/s]\u001b[A\n",
      " 94%|█████████▍| 47/50 [00:24<00:01,  1.92it/s]\u001b[A\n",
      "  0%|          | 0/20 [00:00<?, ?it/s]\u001b[A"
     ]
    },
    {
     "name": "stdout",
     "output_type": "stream",
     "text": [
      "\t Epoch 46. Accuracy: 0.754750 | Loss: 0.838435\n"
     ]
    },
    {
     "name": "stderr",
     "output_type": "stream",
     "text": [
      "\n",
      "  5%|▌         | 1/20 [00:00<00:02,  6.36it/s]\u001b[A\n",
      " 40%|████      | 8/20 [00:00<00:01,  8.72it/s]\u001b[A\n",
      " 75%|███████▌  | 15/20 [00:00<00:00, 11.80it/s]\u001b[A\n",
      " 96%|█████████▌| 48/50 [00:24<00:01,  1.98it/s]\u001b[A\n",
      "  0%|          | 0/20 [00:00<?, ?it/s]\u001b[A"
     ]
    },
    {
     "name": "stdout",
     "output_type": "stream",
     "text": [
      "\t Epoch 47. Accuracy: 0.756875 | Loss: 0.828314\n"
     ]
    },
    {
     "name": "stderr",
     "output_type": "stream",
     "text": [
      "\n",
      "  5%|▌         | 1/20 [00:00<00:03,  6.21it/s]\u001b[A\n",
      " 40%|████      | 8/20 [00:00<00:01,  8.53it/s]\u001b[A\n",
      " 75%|███████▌  | 15/20 [00:00<00:00, 11.56it/s]\u001b[A\n",
      " 98%|█████████▊| 49/50 [00:25<00:00,  2.01it/s]\u001b[A\n",
      "  0%|          | 0/20 [00:00<?, ?it/s]\u001b[A"
     ]
    },
    {
     "name": "stdout",
     "output_type": "stream",
     "text": [
      "\t Epoch 48. Accuracy: 0.763813 | Loss: 0.809650\n"
     ]
    },
    {
     "name": "stderr",
     "output_type": "stream",
     "text": [
      "\n",
      "  5%|▌         | 1/20 [00:00<00:03,  6.27it/s]\u001b[A\n",
      " 40%|████      | 8/20 [00:00<00:01,  8.60it/s]\u001b[A\n",
      " 75%|███████▌  | 15/20 [00:00<00:00, 11.65it/s]\u001b[A\n",
      "100%|██████████| 50/50 [00:25<00:00,  2.04it/s]\u001b[A\n",
      "  0%|          | 0/3 [00:00<?, ?it/s]"
     ]
    },
    {
     "name": "stdout",
     "output_type": "stream",
     "text": [
      "\t Epoch 49. Accuracy: 0.763750 | Loss: 0.806187\n"
     ]
    },
    {
     "name": "stderr",
     "output_type": "stream",
     "text": [
      "100%|██████████| 3/3 [00:00<00:00, 17.52it/s]"
     ]
    },
    {
     "name": "stdout",
     "output_type": "stream",
     "text": [
      "\n",
      "----------------------------\n",
      "Test Accuracy: 0.751958\n",
      "----------------------------\n",
      "\n"
     ]
    },
    {
     "name": "stderr",
     "output_type": "stream",
     "text": [
      "\n"
     ]
    }
   ],
   "source": [
    "for epoch in tqdm(range(epochs)):\n",
    "    train(model_nodp, criterion, optimizer_nodp, train_loader, epoch, device=device)\n",
    "    if test_every:\n",
    "        if epoch % test_every == 0:\n",
    "            test(model_nodp, test_loader, None, device=device)\n",
    "\n",
    "test(model_nodp, test_loader, None, device=device)"
   ]
  },
  {
   "cell_type": "markdown",
   "metadata": {},
   "source": [
    "We run the training loop again, this time without privacy and for the same number of iterations. "
   ]
  },
  {
   "cell_type": "markdown",
   "metadata": {},
   "source": [
    "The non-private classifier obtains an accuracy of 76.37 with the same parameters and number of epochs. We are effectively trading off performance on the name classification task for a lower loss of privacy."
   ]
  },
  {
   "cell_type": "code",
   "execution_count": null,
   "metadata": {},
   "outputs": [],
   "source": []
  }
 ],
 "metadata": {
  "kernelspec": {
   "display_name": "Python 3",
   "language": "python",
   "name": "python3"
  },
  "language_info": {
   "codemirror_mode": {
    "name": "ipython",
    "version": 3
   },
   "file_extension": ".py",
   "mimetype": "text/x-python",
   "name": "python",
   "nbconvert_exporter": "python",
   "pygments_lexer": "ipython3",
   "version": "3.7.0"
  }
 },
 "nbformat": 4,
 "nbformat_minor": 2
}
